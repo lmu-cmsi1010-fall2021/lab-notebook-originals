{
  "nbformat": 4,
  "nbformat_minor": 0,
  "metadata": {
    "colab": {
      "name": "Inheritance_Code_Along",
      "provenance": [],
      "authorship_tag": "ABX9TyOeDwja62sJGOrNV+cMJZEt",
      "include_colab_link": true
    },
    "kernelspec": {
      "name": "python3",
      "display_name": "Python 3"
    },
    "language_info": {
      "name": "python"
    }
  },
  "cells": [
    {
      "cell_type": "markdown",
      "metadata": {
        "id": "view-in-github",
        "colab_type": "text"
      },
      "source": [
        "<a href=\"https://colab.research.google.com/github/lmu-cmsi1010-fall2021/lab-notebook-originals/blob/main/Inheritance_Code_Along.ipynb\" target=\"_parent\"><img src=\"https://colab.research.google.com/assets/colab-badge.svg\" alt=\"Open In Colab\"/></a>"
      ]
    },
    {
      "cell_type": "code",
      "metadata": {
        "colab": {
          "base_uri": "https://localhost:8080/"
        },
        "id": "i8w1vdjomk50",
        "outputId": "0b0d3f11-180e-48bf-965f-ababfff4ad41"
      },
      "source": [
        "class Mammal(object):\n",
        "    def __init__(self, age, gender, weight): \n",
        "      self.age = age\n",
        "      self.weight = weight\n",
        "      self.gender = gender\n",
        "      self.tired = 20\n",
        "\n",
        "    def eat(self, amount):\n",
        "      self.weight += amount\n",
        "    \n",
        "    def sleep(self, duration):\n",
        "      self.tired -= duration\n",
        "\n",
        "    def drink(self, amount): \n",
        "      self.weight += amount\n",
        "\n",
        "\n",
        "class Cat(Mammal):\n",
        "    def get_age(self):\n",
        "        return self.age\n",
        "    \n",
        "    def grow_older(self):\n",
        "        self.age += 1\n",
        "\n",
        "    def gain_weight(self):\n",
        "        self.eat(.5)  \n",
        "\n",
        "    def sleep(self):\n",
        "        self.tired = self.tired *.75\n",
        "\n",
        "class Dog(Mammal):\n",
        "\n",
        "    def __init__(self, age, gender, weight, breed):\n",
        "        self.breed = breed\n",
        "        Mammal.__init__(self, age, gender, weight)\n",
        "\n",
        "    #TO DO OVERRIDE DOG SLEEP METHOD HERE\n",
        "\n",
        "\n",
        "\n",
        "\n",
        "hickory = Dog(14,'male', 20, 'border terrier')\n",
        "hickory.sleep(2)\n",
        "print( hickory.tired)\n"
      ],
      "execution_count": 6,
      "outputs": [
        {
          "output_type": "stream",
          "name": "stdout",
          "text": [
            "18\n"
          ]
        }
      ]
    }
  ]
}