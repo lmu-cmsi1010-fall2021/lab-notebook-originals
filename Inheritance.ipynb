{
  "nbformat": 4,
  "nbformat_minor": 0,
  "metadata": {
    "kernelspec": {
      "display_name": "Python 3",
      "language": "python",
      "name": "python3"
    },
    "language_info": {
      "codemirror_mode": {
        "name": "ipython",
        "version": 3
      },
      "file_extension": ".py",
      "mimetype": "text/x-python",
      "name": "python",
      "nbconvert_exporter": "python",
      "pygments_lexer": "ipython3",
      "version": "3.7.3"
    },
    "colab": {
      "name": "16 Inheritance.ipynb",
      "provenance": [],
      "include_colab_link": true
    }
  },
  "cells": [
    {
      "cell_type": "markdown",
      "metadata": {
        "id": "view-in-github",
        "colab_type": "text"
      },
      "source": [
        "<a href=\"https://colab.research.google.com/github/lmu-cmsi1010-fall2021/lab-notebook-originals/blob/main/Inheritance.ipynb\" target=\"_parent\"><img src=\"https://colab.research.google.com/assets/colab-badge.svg\" alt=\"Open In Colab\"/></a>"
      ]
    },
    {
      "cell_type": "markdown",
      "metadata": {
        "id": "NbtnAu0UkVon"
      },
      "source": [
        "## Inheritance\n",
        "\n",
        "For more details on this topic, make sure to read [Think Python](https://greenteapress.com/thinkpython2/thinkpython2.pdf) chapter 18! (the examples in this notebook are taken from there and [Composing Programs 2.5](http://composingprograms.com/pages/25-object-oriented-programming.html#inheritance))"
      ]
    },
    {
      "cell_type": "code",
      "metadata": {
        "id": "1tge25kGkVoq"
      },
      "source": [
        "class Account:\n",
        "    \"\"\"A bank account that has a non-negative balance.\"\"\"\n",
        "    interest = 0.02\n",
        "\n",
        "    def __init__(self, account_holder):\n",
        "        self.balance = 0\n",
        "        self.holder = account_holder\n",
        "\n",
        "    def deposit(self, amount):\n",
        "        \"\"\"Increase the account balance by amount and return the new balance.\"\"\"\n",
        "        self.balance = self.balance + amount\n",
        "        return self.balance\n",
        "\n",
        "    def withdraw(self, amount):\n",
        "        \"\"\"Decrease the account balance by amount and return the new balance.\"\"\"\n",
        "        if amount > self.balance:\n",
        "            return 'Insufficient funds'\n",
        "\n",
        "        self.balance = self.balance - amount\n",
        "        return self.balance"
      ],
      "execution_count": null,
      "outputs": []
    },
    {
      "cell_type": "markdown",
      "metadata": {
        "id": "BbT35UiEltLq"
      },
      "source": [
        "A specific kind of account would be a checking account, which charges the customer for a withdrawal but otherwise acts like a generic account. Time to create a subclass!"
      ]
    },
    {
      "cell_type": "code",
      "metadata": {
        "id": "dDaltYJ1kVor"
      },
      "source": [
        "class CheckingAccount(Account):\n",
        "    \"\"\"A bank account that charges for withdrawals.\"\"\"\n",
        "    withdraw_charge = 1\n",
        "    interest = 0.01\n",
        "\n",
        "    def withdraw(self, amount):\n",
        "        return Account.withdraw(self, amount + self.withdraw_charge)"
      ],
      "execution_count": null,
      "outputs": []
    },
    {
      "cell_type": "code",
      "metadata": {
        "id": "4NzLXwackVor"
      },
      "source": [
        "checking = CheckingAccount('Sam')"
      ],
      "execution_count": null,
      "outputs": []
    },
    {
      "cell_type": "code",
      "metadata": {
        "id": "lV0nxmfVkVos"
      },
      "source": [
        "checking.deposit(10)"
      ],
      "execution_count": null,
      "outputs": []
    },
    {
      "cell_type": "code",
      "metadata": {
        "id": "rKGR4On7kVos"
      },
      "source": [
        "checking.withdraw(5)"
      ],
      "execution_count": null,
      "outputs": []
    },
    {
      "cell_type": "code",
      "metadata": {
        "id": "1NdfOgiJkVos"
      },
      "source": [
        "checking.interest"
      ],
      "execution_count": null,
      "outputs": []
    },
    {
      "cell_type": "markdown",
      "metadata": {
        "id": "F3hwGHGskVot"
      },
      "source": [
        "To look up a name in a class:\n",
        "\n",
        "1. If it names an attribute of an object instance, return the instance attribute value.\n",
        "2. If it names an attribute in the class, return the attribute value.\n",
        "3. Otherwise, look up the name in the parent class, if there is one.\n",
        "\n",
        "In this example, Python would look in `checking`, `CheckingAccount`, then `Account` to find the meaning of `deposit` \n",
        "\n",
        "The class of the object stays constant throughout, even though we can access parent classes as needed, i.e., `self` is still bound to `CheckingAccount` when it calls `deposit` defined in `Account`\n",
        "\n",
        "### Interfaces\n",
        "\n",
        "An *object interface* is a collection of attributes and conditions on those attributes. For example, all accounts must have deposit and withdraw methods that take numerical arguments, as well as a balance attribute."
      ]
    },
    {
      "cell_type": "code",
      "metadata": {
        "id": "VlflUO7OkVot"
      },
      "source": [
        "# Lottery function with reasonable assumption of deposit method\n",
        "def deposit_all(winners, amount=5):\n",
        "    for account in winners:\n",
        "        account.deposit(amount)"
      ],
      "execution_count": null,
      "outputs": []
    },
    {
      "cell_type": "code",
      "metadata": {
        "id": "bPLGJpAVkVot"
      },
      "source": [
        "# Lottery function with unreasonable assumption about object implementation\n",
        "def deposit_all(winners, amount=5):\n",
        "    for account in winners:\n",
        "        Account.deposit(account, amount)"
      ],
      "execution_count": null,
      "outputs": []
    },
    {
      "cell_type": "markdown",
      "metadata": {
        "id": "fSoXq31qkVot"
      },
      "source": [
        "### Stretch concept: Multiple inheritance\n",
        "\n",
        "Sometimes it makes sense to inherit attributes and methods from *more than one class*. This is called *multiple inheritance*. It makes sense in certain cases but can get convoluted if not planned well."
      ]
    },
    {
      "cell_type": "code",
      "metadata": {
        "id": "H1gFjnIrkVot"
      },
      "source": [
        "class SavingsAccount(Account):\n",
        "    deposit_charge = 2\n",
        "    def deposit(self, amount):\n",
        "        return Account.deposit(self, amount - self.deposit_charge)"
      ],
      "execution_count": null,
      "outputs": []
    },
    {
      "cell_type": "code",
      "metadata": {
        "id": "KHI2ISAjkVou"
      },
      "source": [
        "class AsSeenOnTVAccount(CheckingAccount, SavingsAccount):\n",
        "    def __init__(self, account_holder):\n",
        "        self.holder = account_holder\n",
        "        self.balance = 1           # A free dollar!"
      ],
      "execution_count": null,
      "outputs": []
    },
    {
      "cell_type": "code",
      "metadata": {
        "id": "mhTHdUsckVou"
      },
      "source": [
        "such_a_deal = AsSeenOnTVAccount('John')\n",
        "such_a_deal.balance"
      ],
      "execution_count": null,
      "outputs": []
    },
    {
      "cell_type": "code",
      "metadata": {
        "id": "FnLZ8bphkVou"
      },
      "source": [
        "such_a_deal.deposit(20)  # $2 fee from SavingsAccount.deposit"
      ],
      "execution_count": null,
      "outputs": []
    },
    {
      "cell_type": "code",
      "metadata": {
        "id": "wgwlvyc2kVou"
      },
      "source": [
        "such_a_deal.withdraw(5)  # $1 fee from CheckingAccount.withdraw"
      ],
      "execution_count": null,
      "outputs": []
    },
    {
      "cell_type": "code",
      "metadata": {
        "id": "A8SvipAMkVou"
      },
      "source": [
        "# Non-ambiguous references are resolved correctly as expected:\n",
        "such_a_deal.deposit_charge"
      ],
      "execution_count": null,
      "outputs": []
    },
    {
      "cell_type": "code",
      "metadata": {
        "id": "DiQ3gZyVkVou"
      },
      "source": [
        "such_a_deal.withdraw_charge"
      ],
      "execution_count": null,
      "outputs": []
    }
  ]
}