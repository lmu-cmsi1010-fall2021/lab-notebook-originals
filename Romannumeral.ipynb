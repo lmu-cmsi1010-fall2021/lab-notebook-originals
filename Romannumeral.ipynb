{
  "nbformat": 4,
  "nbformat_minor": 0,
  "metadata": {
    "colab": {
      "name": "Romannumeral.ipynb",
      "provenance": [],
      "authorship_tag": "ABX9TyO7/jZFPa0Z/V/+2lWwspFY",
      "include_colab_link": true
    },
    "kernelspec": {
      "name": "python3",
      "display_name": "Python 3"
    },
    "language_info": {
      "name": "python"
    }
  },
  "cells": [
    {
      "cell_type": "markdown",
      "metadata": {
        "id": "view-in-github",
        "colab_type": "text"
      },
      "source": [
        "<a href=\"https://colab.research.google.com/github/lmu-cmsi1010-fall2021/lab-notebook-originals/blob/main/Romannumeral.ipynb\" target=\"_parent\"><img src=\"https://colab.research.google.com/assets/colab-badge.svg\" alt=\"Open In Colab\"/></a>"
      ]
    },
    {
      "cell_type": "code",
      "metadata": {
        "colab": {
          "base_uri": "https://localhost:8080/"
        },
        "id": "jvQN5PbohSpb",
        "outputId": "f6b1dc7c-4b45-4f2a-a6fc-3ff7233693da"
      },
      "source": [
        "# Thank you to Sayde Surratt for sharing this example she found on \n",
        "# leetcode to discuss: https://leetcode.com/problems/roman-to-integer/\n",
        "# Assume given properly formed Roman numeral\n",
        "# How would you turn this into a class?\n",
        "# What would be good attributes?\n",
        "def roman_to_int(numeral_s):\n",
        "  roman_dictionary = {\"I\":1, \"V\":5, \"X\": 10, \"L\": 50, \"C\": 100, \"D\": 500, \"M\": 1000}\n",
        "  value = 0\n",
        "  if len(numeral_s) == 0:\n",
        "    return value\n",
        "\n",
        "  if len(numeral_s) == 1:\n",
        "    return roman_dictionary[numeral_s]\n",
        "\n",
        "  # At least two characters\n",
        "  current =  roman_dictionary[numeral_s[0]]\n",
        "  next = roman_dictionary[numeral_s[1]]\n",
        "  if current < next:\n",
        "    value += next - current + roman_to_int(numeral_s[2:])\n",
        "  else:\n",
        "    value += current + roman_to_int(numeral_s[1:])\n",
        "  \n",
        "  return value\n",
        "\n",
        "\n",
        "\n",
        "print(roman_to_int(\"MCMXCV\")) \n",
        "print(roman_to_int(\"MMXXI\")) \n",
        "print(roman_to_int(\"\"))\n",
        "print(roman_to_int(\"IX\"))\n",
        "\n",
        "def iterative_roman_to_int(numeral_s):\n",
        "  roman_dictionary = {\"I\":1, \"V\":5, \"X\": 10, \"L\": 50, \"C\": 100, \"D\": 500, \"M\": 1000}\n",
        "  value = 0\n",
        "  for i in range(len(numeral_s)):\n",
        "      current = roman_dictionary[numeral_s[len(numeral_s)-i-1]]\n",
        "      if i > 0 and (current < roman_dictionary[numeral_s[len(numeral_s)-i]]):\n",
        "        value -= current\n",
        "      else:\n",
        "        value += current\n",
        "  \n",
        "  return value\n",
        "\n",
        "\n",
        "\n",
        "print(iterative_roman_to_int(\"MCMXCV\")) \n",
        "print(iterative_roman_to_int(\"MMXXI\")) \n",
        "print(iterative_roman_to_int(\"IX\")) \n",
        "\n",
        "\n"
      ],
      "execution_count": 14,
      "outputs": [
        {
          "output_type": "stream",
          "name": "stdout",
          "text": [
            "1995\n",
            "2021\n",
            "0\n",
            "9\n",
            "1995\n",
            "2021\n",
            "9\n"
          ]
        }
      ]
    }
  ]
}