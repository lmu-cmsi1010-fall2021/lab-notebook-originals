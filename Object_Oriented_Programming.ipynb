{
  "nbformat": 4,
  "nbformat_minor": 0,
  "metadata": {
    "kernelspec": {
      "display_name": "Python 3",
      "language": "python",
      "name": "python3"
    },
    "language_info": {
      "codemirror_mode": {
        "name": "ipython",
        "version": 3
      },
      "file_extension": ".py",
      "mimetype": "text/x-python",
      "name": "python",
      "nbconvert_exporter": "python",
      "pygments_lexer": "ipython3",
      "version": "3.7.3"
    },
    "colab": {
      "name": "15 Object-Oriented Programming.ipynb",
      "provenance": [],
      "include_colab_link": true
    }
  },
  "cells": [
    {
      "cell_type": "markdown",
      "metadata": {
        "id": "view-in-github",
        "colab_type": "text"
      },
      "source": [
        "<a href=\"https://colab.research.google.com/github/lmu-cmsi1010-fall2021/lab-notebook-originals/blob/main/Object_Oriented_Programming.ipynb\" target=\"_parent\"><img src=\"https://colab.research.google.com/assets/colab-badge.svg\" alt=\"Open In Colab\"/></a>"
      ]
    },
    {
      "cell_type": "markdown",
      "metadata": {
        "id": "4_4HmzIdiOLr"
      },
      "source": [
        "# Object-oriented programming\n",
        "\n",
        "These examples are from [Composing Programs Ch 2.5](http://composingprograms.com/pages/25-object-oriented-programming.html)."
      ]
    },
    {
      "cell_type": "code",
      "metadata": {
        "id": "tpp5o-HqiOLu"
      },
      "source": [
        "class Account:\n",
        "    def __init__(self, account_holder):\n",
        "        self.balance = 0\n",
        "        self.holder = account_holder"
      ],
      "execution_count": null,
      "outputs": []
    },
    {
      "cell_type": "markdown",
      "metadata": {
        "id": "jKL8eO6biOLv"
      },
      "source": [
        "- `__init__` method initializes objects, is also called the **constructor method**\n",
        "\n",
        "- `self` argument is bound to the newly created object\n",
        "\n",
        "In the `Account` class, the constructor method binds the instance attribute name `balance` to 0. It also binds the attribute name `holder` to the value of the argument `account_holder`."
      ]
    },
    {
      "cell_type": "code",
      "metadata": {
        "id": "LQfb6sbwiOLw"
      },
      "source": [
        "a = Account('Kirk')"
      ],
      "execution_count": null,
      "outputs": []
    },
    {
      "cell_type": "code",
      "metadata": {
        "id": "UvFrCQrTiOLw"
      },
      "source": [
        "a.balance"
      ],
      "execution_count": null,
      "outputs": []
    },
    {
      "cell_type": "code",
      "metadata": {
        "id": "UaZoBrqFiOLw"
      },
      "source": [
        "a.holder"
      ],
      "execution_count": null,
      "outputs": []
    },
    {
      "cell_type": "code",
      "metadata": {
        "id": "Meu6zhfSiOLw"
      },
      "source": [
        "b = Account('Spock')\n",
        "b.balance = 200\n",
        "\n",
        "[acc.balance for acc in (a, b)]"
      ],
      "execution_count": null,
      "outputs": []
    },
    {
      "cell_type": "markdown",
      "metadata": {
        "id": "RrAtMUZGiOLx"
      },
      "source": [
        "## Object identities\n",
        "\n",
        "This [PythonTutor visualization](http://pythontutor.com/visualize.html#code=class%20Account%3A%0A%20%20%20%20def%20__init__%28self,%20account_holder%29%3A%0A%20%20%20%20%20%20%20%20self.balance%20%3D%200%0A%20%20%20%20%20%20%20%20self.holder%20%3D%20account_holder%0A%20%20%20%20%20%20%20%20%0Aa%20%3D%20Account%28'Kirk'%29%0A%0Ab%20%3D%20Account%28'Spock'%29%0Ab.balance%20%3D%20200%0A%0Ac%20%3D%20a&cumulative=false&curInstr=0&heapPrimitives=nevernest&mode=display&origin=opt-frontend.js&py=3&rawInputLstJSON=%5B%5D&textReferences=false) shows how objects retain their “identities” regardless of what variable they are assigned to. The program is replicated below for reference and experimentation:"
      ]
    },
    {
      "cell_type": "code",
      "metadata": {
        "id": "T8OHLlL8i8J2"
      },
      "source": [
        "class Account:\n",
        "    def __init__(self, account_holder):\n",
        "        self.balance = 0\n",
        "        self.holder = account_holder\n",
        "        \n",
        "a = Account('Kirk')\n",
        "\n",
        "b = Account('Spock')\n",
        "b.balance = 200\n",
        "\n",
        "c = a"
      ],
      "execution_count": null,
      "outputs": []
    },
    {
      "cell_type": "code",
      "metadata": {
        "id": "33iiyTopiOLx"
      },
      "source": [
        "a is a"
      ],
      "execution_count": null,
      "outputs": []
    },
    {
      "cell_type": "code",
      "metadata": {
        "id": "MPjP6yUziOLx"
      },
      "source": [
        "a is not b"
      ],
      "execution_count": null,
      "outputs": []
    },
    {
      "cell_type": "code",
      "metadata": {
        "id": "Jkkij9oIiOLx"
      },
      "source": [
        "c = a\n",
        "c is a"
      ],
      "execution_count": null,
      "outputs": []
    },
    {
      "cell_type": "markdown",
      "metadata": {
        "id": "Mjx3cZQYiOLy"
      },
      "source": [
        "## Methods and functions\n",
        "\n",
        "With the core information of an object defined, we can define any number of functions that those objects can perform. Functions that are specifically attached to a particular object are called *methods*."
      ]
    },
    {
      "cell_type": "code",
      "metadata": {
        "id": "SRL4fMjNiOLy"
      },
      "source": [
        "class Account:\n",
        "    def __init__(self, account_holder):\n",
        "        self.balance = 0\n",
        "        self.holder = account_holder\n",
        "        \n",
        "    def deposit(self, amount):\n",
        "        self.balance = self.balance + amount\n",
        "        return self.balance\n",
        "    \n",
        "    def withdraw(self, amount):\n",
        "        if amount > self.balance:\n",
        "            return 'Insufficient funds'\n",
        "\n",
        "        self.balance = self.balance - amount\n",
        "        return self.balance"
      ],
      "execution_count": null,
      "outputs": []
    },
    {
      "cell_type": "code",
      "metadata": {
        "colab": {
          "base_uri": "https://localhost:8080/"
        },
        "id": "wHdFGaUfiOLy",
        "outputId": "55d54f7b-4e8a-4383-db25-e6783f6889e7"
      },
      "source": [
        "spock_account = Account('Spock')\n",
        "spock_account.deposit(100)"
      ],
      "execution_count": null,
      "outputs": [
        {
          "output_type": "execute_result",
          "data": {
            "text/plain": [
              "100"
            ]
          },
          "metadata": {},
          "execution_count": 2
        }
      ]
    },
    {
      "cell_type": "code",
      "metadata": {
        "id": "FiOuL5V9iOLy"
      },
      "source": [
        "spock_account.withdraw(90)"
      ],
      "execution_count": null,
      "outputs": []
    },
    {
      "cell_type": "code",
      "metadata": {
        "id": "3gAk22F7iOLz"
      },
      "source": [
        "spock_account.withdraw(90)"
      ],
      "execution_count": null,
      "outputs": []
    },
    {
      "cell_type": "code",
      "metadata": {
        "id": "esOK6IvGiOLz"
      },
      "source": [
        "spock_account.holder"
      ],
      "execution_count": null,
      "outputs": []
    },
    {
      "cell_type": "markdown",
      "metadata": {
        "id": "lg7QhPT4iOLz"
      },
      "source": [
        "When a method is invoked via dot notation, the object itself (bound to `spock_account`, in this case) plays a dual role. First, it determines what the name `withdraw` means; `withdraw` is not a name in the environment, but instead a name that is local to the `Account` class. Second, it is bound to the first parameter self when the `withdraw` method is invoked. \n",
        "\n",
        "– [Composing Programs Ch 2.5.2](http://composingprograms.com/pages/25-object-oriented-programming.html)"
      ]
    },
    {
      "cell_type": "code",
      "metadata": {
        "colab": {
          "base_uri": "https://localhost:8080/"
        },
        "id": "C3-yhCD0iOLz",
        "outputId": "a84aa3fc-ff93-46b7-9e19-359042929065"
      },
      "source": [
        "Account.deposit(spock_account, 1001) # The deposit function takes 2 arguments"
      ],
      "execution_count": null,
      "outputs": [
        {
          "output_type": "execute_result",
          "data": {
            "text/plain": [
              "1101"
            ]
          },
          "metadata": {},
          "execution_count": 3
        }
      ]
    },
    {
      "cell_type": "code",
      "metadata": {
        "colab": {
          "base_uri": "https://localhost:8080/"
        },
        "id": "8J0CLRdliOLz",
        "outputId": "e845d06a-9460-4030-82b2-60981fe2dc71"
      },
      "source": [
        "spock_account.deposit(1000) # The deposit method takes 1 argument"
      ],
      "execution_count": null,
      "outputs": [
        {
          "output_type": "execute_result",
          "data": {
            "text/plain": [
              "2101"
            ]
          },
          "metadata": {},
          "execution_count": 4
        }
      ]
    },
    {
      "cell_type": "code",
      "metadata": {
        "colab": {
          "base_uri": "https://localhost:8080/"
        },
        "id": "htxiSthciOL0",
        "outputId": "091e3c5d-b241-4c82-d46f-4cc2c296aa99"
      },
      "source": [
        "type(Account.deposit)"
      ],
      "execution_count": null,
      "outputs": [
        {
          "output_type": "execute_result",
          "data": {
            "text/plain": [
              "function"
            ]
          },
          "metadata": {},
          "execution_count": 5
        }
      ]
    },
    {
      "cell_type": "code",
      "metadata": {
        "colab": {
          "base_uri": "https://localhost:8080/"
        },
        "id": "4Bo-gjpFiOL0",
        "outputId": "cf2cc003-086c-498b-912a-3da9037a5d99"
      },
      "source": [
        "type(spock_account.deposit)"
      ],
      "execution_count": null,
      "outputs": [
        {
          "output_type": "execute_result",
          "data": {
            "text/plain": [
              "method"
            ]
          },
          "metadata": {},
          "execution_count": 6
        }
      ]
    },
    {
      "cell_type": "markdown",
      "metadata": {
        "id": "kkvCi4OUiOL0"
      },
      "source": [
        "^ This is how Python keeps track of the `self` argument."
      ]
    },
    {
      "cell_type": "code",
      "metadata": {
        "id": "trF8cOWGiOL0"
      },
      "source": [
        "getattr(spock_account, 'balance')"
      ],
      "execution_count": null,
      "outputs": []
    },
    {
      "cell_type": "code",
      "metadata": {
        "id": "nbQAGwryiOL0"
      },
      "source": [
        "hasattr(spock_account, 'deposit')"
      ],
      "execution_count": null,
      "outputs": []
    },
    {
      "cell_type": "markdown",
      "metadata": {
        "id": "oGsW5CpIiOL0"
      },
      "source": [
        "## Class Attributes\n",
        "\n",
        "Some attribute values are shared across all objects of a given class—these are *class attributes*."
      ]
    },
    {
      "cell_type": "code",
      "metadata": {
        "id": "RNK02GBfiOL1"
      },
      "source": [
        "class Account:\n",
        "    interest = 0.02            # A class attribute\n",
        "    def __init__(self, account_holder):\n",
        "        self.balance = 0\n",
        "        self.holder = account_holder"
      ],
      "execution_count": null,
      "outputs": []
    },
    {
      "cell_type": "code",
      "metadata": {
        "id": "g9Kk43piiOL1"
      },
      "source": [
        "spock_account = Account('Spock')\n",
        "kirk_account = Account('Kirk')\n",
        "spock_account.interest"
      ],
      "execution_count": null,
      "outputs": []
    },
    {
      "cell_type": "code",
      "metadata": {
        "id": "pFHPoNZPiOL1"
      },
      "source": [
        "kirk_account.interest"
      ],
      "execution_count": null,
      "outputs": []
    },
    {
      "cell_type": "markdown",
      "metadata": {
        "id": "i4Qg7tyfiOL1"
      },
      "source": [
        "A single assignment statement to a class attribute changes the value of the attribute for all instances of the class"
      ]
    },
    {
      "cell_type": "code",
      "metadata": {
        "id": "9bjGmLEUiOL1"
      },
      "source": [
        "Account.interest = 0.04"
      ],
      "execution_count": null,
      "outputs": []
    },
    {
      "cell_type": "code",
      "metadata": {
        "id": "2od0kT28iOL2"
      },
      "source": [
        "spock_account.interest"
      ],
      "execution_count": null,
      "outputs": []
    },
    {
      "cell_type": "code",
      "metadata": {
        "id": "6I--yewkiOL2"
      },
      "source": [
        "kirk_account.interest"
      ],
      "execution_count": null,
      "outputs": []
    },
    {
      "cell_type": "markdown",
      "metadata": {
        "id": "hDv_yW4XiOL2"
      },
      "source": [
        "Assigning the instance attribute changes only that instance, and then Python treats the attribute as an instance attribute instead of a class attribute."
      ]
    },
    {
      "cell_type": "code",
      "metadata": {
        "id": "5_vZtOFfiOL2"
      },
      "source": [
        "kirk_account.interest = 0.08\n",
        "kirk_account.interest"
      ],
      "execution_count": null,
      "outputs": []
    },
    {
      "cell_type": "code",
      "metadata": {
        "id": "5qqEK37viOL3"
      },
      "source": [
        "spock_account.interest"
      ],
      "execution_count": null,
      "outputs": []
    },
    {
      "cell_type": "code",
      "metadata": {
        "id": "YJCh1xeiiOL3"
      },
      "source": [
        "Account.interest = 0.05"
      ],
      "execution_count": null,
      "outputs": []
    },
    {
      "cell_type": "code",
      "metadata": {
        "id": "SIzNMfXXiOL3"
      },
      "source": [
        "spock_account.interest"
      ],
      "execution_count": null,
      "outputs": []
    },
    {
      "cell_type": "code",
      "metadata": {
        "id": "p2wvnISdiOL4"
      },
      "source": [
        "kirk_account.interest"
      ],
      "execution_count": null,
      "outputs": []
    },
    {
      "cell_type": "markdown",
      "metadata": {
        "id": "b9vSLUKfiOL4"
      },
      "source": [
        "## Other special methods\n",
        "\n",
        "Beyond `__init__` and `__str__`, Python recognizes other methods which are similarly interpreted or used in special ways by Python, when defined."
      ]
    },
    {
      "cell_type": "code",
      "metadata": {
        "id": "WYsw9RHpiOL5"
      },
      "source": [
        "class Account:\n",
        "    interest = 0.02            # A class attribute\n",
        "    def __init__(self, account_holder):\n",
        "        self.balance = 0\n",
        "        self.holder = account_holder\n",
        "        \n",
        "    def deposit(self, amount):\n",
        "        self.balance = self.balance + amount\n",
        "        return self.balance\n",
        "    \n",
        "    def withdraw(self, amount):\n",
        "        if amount > self.balance:\n",
        "            return 'Insufficient funds'\n",
        "        self.balance = self.balance - amount\n",
        "        return self.balance\n",
        "        \n",
        "    def __gt__(self, other):\n",
        "        return self.balance > other.balance"
      ],
      "execution_count": null,
      "outputs": []
    },
    {
      "cell_type": "code",
      "metadata": {
        "id": "oKRkPpQoiOL5"
      },
      "source": [
        "spock_account = Account('Spock')\n",
        "kirk_account = Account('Kirk')"
      ],
      "execution_count": null,
      "outputs": []
    },
    {
      "cell_type": "code",
      "metadata": {
        "id": "tx43h0AhiOL5"
      },
      "source": [
        "spock_account > kirk_account"
      ],
      "execution_count": null,
      "outputs": []
    },
    {
      "cell_type": "code",
      "metadata": {
        "id": "J3-CAQR9iOL5"
      },
      "source": [
        "spock_account.deposit(10)"
      ],
      "execution_count": null,
      "outputs": []
    },
    {
      "cell_type": "code",
      "metadata": {
        "id": "g2nVpbkziOL5"
      },
      "source": [
        "spock_account > kirk_account"
      ],
      "execution_count": null,
      "outputs": []
    }
  ]
}