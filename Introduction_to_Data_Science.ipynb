{
  "nbformat": 4,
  "nbformat_minor": 0,
  "metadata": {
    "colab": {
      "name": "17 Introduction to Data Science.ipynb",
      "provenance": [],
      "collapsed_sections": [],
      "include_colab_link": true
    },
    "kernelspec": {
      "name": "python3",
      "display_name": "Python 3"
    }
  },
  "cells": [
    {
      "cell_type": "markdown",
      "metadata": {
        "id": "view-in-github",
        "colab_type": "text"
      },
      "source": [
        "<a href=\"https://colab.research.google.com/github/lmu-cmsi1010-fall2021/lab-notebook-originals/blob/main/Introduction_to_Data_Science.ipynb\" target=\"_parent\"><img src=\"https://colab.research.google.com/assets/colab-badge.svg\" alt=\"Open In Colab\"/></a>"
      ]
    },
    {
      "cell_type": "code",
      "metadata": {
        "id": "ZzKTbg9yFE7M"
      },
      "source": [
        "from datascience import *\n",
        "import numpy as np\n",
        "\n",
        "%matplotlib inline\n",
        "import matplotlib.pyplot as plt\n",
        "plt.style.use('seaborn-whitegrid')"
      ],
      "execution_count": null,
      "outputs": []
    },
    {
      "cell_type": "markdown",
      "metadata": {
        "id": "Ch9vU6vLGXng"
      },
      "source": [
        "Reference: This notebook was borrowed from Dr. Freitas (originally Berkeley's Data 8 course)!\n",
        "\n",
        "Today you’ll see how to work with datasets in Python -- **collections** of data like text or numbers.  In this class, we principally use two kinds of collections:\n",
        " * **Arrays:** An array is a collection of many pieces of a single kind of data, kept in order.  An array is like a single column in an Excel spreadsheet.\n",
        " * **Tables:** A table is a collection of many pieces of different kinds of data.  Each kind of data is in its own **column** and generally the data in the table relating to one entity makes up a **row**.  A table is like an entire Excel spreadsheet.\n",
        " \n",
        "Tables are a fundamental way of representing data sets. A table can be viewed in two ways:\n",
        "\n",
        "- a sequence of named columns that each describe a single attribute of all entries in a data set, or\n",
        "- a sequence of rows that each contain all information about a single individual in a data set.\n",
        "\n",
        "\n",
        "Examples from [*Inferential Thinking*](https://www.inferentialthinking.com/chapters/03/4/Introduction_to_Tables) and [Data8.org](http://data8.org/)\n",
        "\n",
        "## Lists, Arrays, and Tables\n",
        "\n",
        "While Python has the built-in list type, an array is a type that can be imported from the `datascience` or `numpy` libraries. **Arrays** are like lists, except **all the elements are of the same type** and they are designed for higher performance and more efficient calculations on the data they contain.\n",
        "\n",
        "Lists can be useful when working with tables because they can describe the contents of one row in a table, which often  corresponds to a sequence of values with different types. A list of lists can be used to describe multiple rows.\n",
        "\n",
        "Each column in a table is a collection of values with the same type (an array). If you create a table column from a list, it will automatically be converted to an array. A row, on the ther hand, mixes types."
      ]
    },
    {
      "cell_type": "code",
      "metadata": {
        "id": "ntzfTFuKGq5s",
        "colab": {
          "base_uri": "https://localhost:8080/"
        },
        "outputId": "21a4190d-069a-4a3c-e764-b39cee899e26"
      },
      "source": [
        "make_array(8, 34, 5)"
      ],
      "execution_count": null,
      "outputs": [
        {
          "output_type": "execute_result",
          "data": {
            "text/plain": [
              "array([ 8, 34,  5])"
            ]
          },
          "metadata": {
            "tags": []
          },
          "execution_count": 2
        }
      ]
    },
    {
      "cell_type": "code",
      "metadata": {
        "id": "kHbp78WyGwcQ",
        "colab": {
          "base_uri": "https://localhost:8080/"
        },
        "outputId": "850bb7c2-0df0-4b05-c586-0320a57d7131"
      },
      "source": [
        "make_array('lotus', 'sunflower', 'rose')"
      ],
      "execution_count": null,
      "outputs": [
        {
          "output_type": "execute_result",
          "data": {
            "text/plain": [
              "array(['lotus', 'sunflower', 'rose'], dtype='<U9')"
            ]
          },
          "metadata": {
            "tags": []
          },
          "execution_count": 3
        }
      ]
    },
    {
      "cell_type": "code",
      "metadata": {
        "id": "BxaQNlg2G0h2",
        "colab": {
          "base_uri": "https://localhost:8080/",
          "height": 136
        },
        "outputId": "31505e23-4a38-4710-b1af-06d31a520a5b"
      },
      "source": [
        "flowers = Table().with_columns(\n",
        "    'Number of petals', make_array(8, 34, 5),\n",
        "    'Name', make_array('lotus', 'sunflower', 'rose')\n",
        ")\n",
        "flowers"
      ],
      "execution_count": null,
      "outputs": [
        {
          "output_type": "execute_result",
          "data": {
            "text/html": [
              "<table border=\"1\" class=\"dataframe\">\n",
              "    <thead>\n",
              "        <tr>\n",
              "            <th>Number of petals</th> <th>Name</th>\n",
              "        </tr>\n",
              "    </thead>\n",
              "    <tbody>\n",
              "        <tr>\n",
              "            <td>8               </td> <td>lotus    </td>\n",
              "        </tr>\n",
              "        <tr>\n",
              "            <td>34              </td> <td>sunflower</td>\n",
              "        </tr>\n",
              "        <tr>\n",
              "            <td>5               </td> <td>rose     </td>\n",
              "        </tr>\n",
              "    </tbody>\n",
              "</table>"
            ],
            "text/plain": [
              "Number of petals | Name\n",
              "8                | lotus\n",
              "34               | sunflower\n",
              "5                | rose"
            ]
          },
          "metadata": {
            "tags": []
          },
          "execution_count": 4
        }
      ]
    },
    {
      "cell_type": "code",
      "metadata": {
        "id": "wWT5449wHOvG",
        "colab": {
          "base_uri": "https://localhost:8080/"
        },
        "outputId": "a8c4a0fc-7ce3-49bc-90b3-7d323ea6a441"
      },
      "source": [
        "my_flower = [0, 'podweed']\n",
        "my_flower"
      ],
      "execution_count": null,
      "outputs": [
        {
          "output_type": "execute_result",
          "data": {
            "text/plain": [
              "[0, 'podweed']"
            ]
          },
          "metadata": {
            "tags": []
          },
          "execution_count": 5
        }
      ]
    },
    {
      "cell_type": "code",
      "metadata": {
        "id": "8JDeDSObHQCx",
        "colab": {
          "base_uri": "https://localhost:8080/",
          "height": 166
        },
        "outputId": "40cbf43b-a4c7-4706-f6e9-b1e068801a45"
      },
      "source": [
        "four_flowers = flowers.with_row(my_flower)\n",
        "four_flowers"
      ],
      "execution_count": null,
      "outputs": [
        {
          "output_type": "execute_result",
          "data": {
            "text/html": [
              "<table border=\"1\" class=\"dataframe\">\n",
              "    <thead>\n",
              "        <tr>\n",
              "            <th>Number of petals</th> <th>Name</th>\n",
              "        </tr>\n",
              "    </thead>\n",
              "    <tbody>\n",
              "        <tr>\n",
              "            <td>8               </td> <td>lotus    </td>\n",
              "        </tr>\n",
              "        <tr>\n",
              "            <td>34              </td> <td>sunflower</td>\n",
              "        </tr>\n",
              "        <tr>\n",
              "            <td>5               </td> <td>rose     </td>\n",
              "        </tr>\n",
              "        <tr>\n",
              "            <td>0               </td> <td>podweed  </td>\n",
              "        </tr>\n",
              "    </tbody>\n",
              "</table>"
            ],
            "text/plain": [
              "Number of petals | Name\n",
              "8                | lotus\n",
              "34               | sunflower\n",
              "5                | rose\n",
              "0                | podweed"
            ]
          },
          "metadata": {
            "tags": []
          },
          "execution_count": 6
        }
      ]
    },
    {
      "cell_type": "code",
      "metadata": {
        "id": "gGUjah4xHR6r",
        "colab": {
          "base_uri": "https://localhost:8080/",
          "height": 254
        },
        "outputId": "b356dbf5-8bd0-4244-8189-a9cb909351af"
      },
      "source": [
        "other_flowers = [[10, 'lavender'], [3, 'birds of paradise'], [6, 'tulip']]\n",
        "\n",
        "seven_flowers = four_flowers.with_rows(other_flowers)\n",
        "seven_flowers"
      ],
      "execution_count": null,
      "outputs": [
        {
          "output_type": "execute_result",
          "data": {
            "text/html": [
              "<table border=\"1\" class=\"dataframe\">\n",
              "    <thead>\n",
              "        <tr>\n",
              "            <th>Number of petals</th> <th>Name</th>\n",
              "        </tr>\n",
              "    </thead>\n",
              "    <tbody>\n",
              "        <tr>\n",
              "            <td>8               </td> <td>lotus            </td>\n",
              "        </tr>\n",
              "        <tr>\n",
              "            <td>34              </td> <td>sunflower        </td>\n",
              "        </tr>\n",
              "        <tr>\n",
              "            <td>5               </td> <td>rose             </td>\n",
              "        </tr>\n",
              "        <tr>\n",
              "            <td>0               </td> <td>podweed          </td>\n",
              "        </tr>\n",
              "        <tr>\n",
              "            <td>10              </td> <td>lavender         </td>\n",
              "        </tr>\n",
              "        <tr>\n",
              "            <td>3               </td> <td>birds of paradise</td>\n",
              "        </tr>\n",
              "        <tr>\n",
              "            <td>6               </td> <td>tulip            </td>\n",
              "        </tr>\n",
              "    </tbody>\n",
              "</table>"
            ],
            "text/plain": [
              "Number of petals | Name\n",
              "8                | lotus\n",
              "34               | sunflower\n",
              "5                | rose\n",
              "0                | podweed\n",
              "10               | lavender\n",
              "3                | birds of paradise\n",
              "6                | tulip"
            ]
          },
          "metadata": {
            "tags": []
          },
          "execution_count": 7
        }
      ]
    },
    {
      "cell_type": "markdown",
      "metadata": {
        "id": "0iSpYmUWHZb-"
      },
      "source": [
        "## NBA Table\n",
        "\n",
        "We can also create a table by reading from a csv file."
      ]
    },
    {
      "cell_type": "code",
      "metadata": {
        "id": "zsvdGFBwHcix",
        "colab": {
          "base_uri": "https://localhost:8080/",
          "height": 372
        },
        "outputId": "7cd0022b-5671-43be-ffa2-3423d8f03797"
      },
      "source": [
        "source = 'https://raw.githubusercontent.com/data-8/textbook/gh-pages/data/nba_salaries.csv'\n",
        "\n",
        "nba = Table.read_table(source)\n",
        "nba"
      ],
      "execution_count": null,
      "outputs": [
        {
          "output_type": "execute_result",
          "data": {
            "text/html": [
              "<table border=\"1\" class=\"dataframe\">\n",
              "    <thead>\n",
              "        <tr>\n",
              "            <th>PLAYER</th> <th>POSITION</th> <th>TEAM</th> <th>'15-'16 SALARY</th>\n",
              "        </tr>\n",
              "    </thead>\n",
              "    <tbody>\n",
              "        <tr>\n",
              "            <td>Paul Millsap    </td> <td>PF      </td> <td>Atlanta Hawks</td> <td>18.6717       </td>\n",
              "        </tr>\n",
              "        <tr>\n",
              "            <td>Al Horford      </td> <td>C       </td> <td>Atlanta Hawks</td> <td>12            </td>\n",
              "        </tr>\n",
              "        <tr>\n",
              "            <td>Tiago Splitter  </td> <td>C       </td> <td>Atlanta Hawks</td> <td>9.75625       </td>\n",
              "        </tr>\n",
              "        <tr>\n",
              "            <td>Jeff Teague     </td> <td>PG      </td> <td>Atlanta Hawks</td> <td>8             </td>\n",
              "        </tr>\n",
              "        <tr>\n",
              "            <td>Kyle Korver     </td> <td>SG      </td> <td>Atlanta Hawks</td> <td>5.74648       </td>\n",
              "        </tr>\n",
              "        <tr>\n",
              "            <td>Thabo Sefolosha </td> <td>SF      </td> <td>Atlanta Hawks</td> <td>4             </td>\n",
              "        </tr>\n",
              "        <tr>\n",
              "            <td>Mike Scott      </td> <td>PF      </td> <td>Atlanta Hawks</td> <td>3.33333       </td>\n",
              "        </tr>\n",
              "        <tr>\n",
              "            <td>Kent Bazemore   </td> <td>SF      </td> <td>Atlanta Hawks</td> <td>2             </td>\n",
              "        </tr>\n",
              "        <tr>\n",
              "            <td>Dennis Schroder </td> <td>PG      </td> <td>Atlanta Hawks</td> <td>1.7634        </td>\n",
              "        </tr>\n",
              "        <tr>\n",
              "            <td>Tim Hardaway Jr.</td> <td>SG      </td> <td>Atlanta Hawks</td> <td>1.30452       </td>\n",
              "        </tr>\n",
              "    </tbody>\n",
              "</table>\n",
              "<p>... (407 rows omitted)</p>"
            ],
            "text/plain": [
              "PLAYER           | POSITION | TEAM          | '15-'16 SALARY\n",
              "Paul Millsap     | PF       | Atlanta Hawks | 18.6717\n",
              "Al Horford       | C        | Atlanta Hawks | 12\n",
              "Tiago Splitter   | C        | Atlanta Hawks | 9.75625\n",
              "Jeff Teague      | PG       | Atlanta Hawks | 8\n",
              "Kyle Korver      | SG       | Atlanta Hawks | 5.74648\n",
              "Thabo Sefolosha  | SF       | Atlanta Hawks | 4\n",
              "Mike Scott       | PF       | Atlanta Hawks | 3.33333\n",
              "Kent Bazemore    | SF       | Atlanta Hawks | 2\n",
              "Dennis Schroder  | PG       | Atlanta Hawks | 1.7634\n",
              "Tim Hardaway Jr. | SG       | Atlanta Hawks | 1.30452\n",
              "... (407 rows omitted)"
            ]
          },
          "metadata": {
            "tags": []
          },
          "execution_count": 8
        }
      ]
    },
    {
      "cell_type": "code",
      "metadata": {
        "id": "TCsY9BfYHlTN",
        "colab": {
          "base_uri": "https://localhost:8080/",
          "height": 372
        },
        "outputId": "fa55532a-1980-41eb-9612-4dca75b25184"
      },
      "source": [
        "nba.where('TEAM', 'Los Angeles Lakers')"
      ],
      "execution_count": null,
      "outputs": [
        {
          "output_type": "execute_result",
          "data": {
            "text/html": [
              "<table border=\"1\" class=\"dataframe\">\n",
              "    <thead>\n",
              "        <tr>\n",
              "            <th>PLAYER</th> <th>POSITION</th> <th>TEAM</th> <th>'15-'16 SALARY</th>\n",
              "        </tr>\n",
              "    </thead>\n",
              "    <tbody>\n",
              "        <tr>\n",
              "            <td>Kobe Bryant     </td> <td>SF      </td> <td>Los Angeles Lakers</td> <td>25            </td>\n",
              "        </tr>\n",
              "        <tr>\n",
              "            <td>Roy Hibbert     </td> <td>C       </td> <td>Los Angeles Lakers</td> <td>15.5922       </td>\n",
              "        </tr>\n",
              "        <tr>\n",
              "            <td>Louis Williams  </td> <td>SG      </td> <td>Los Angeles Lakers</td> <td>7             </td>\n",
              "        </tr>\n",
              "        <tr>\n",
              "            <td>Nick Young      </td> <td>SF      </td> <td>Los Angeles Lakers</td> <td>5.21917       </td>\n",
              "        </tr>\n",
              "        <tr>\n",
              "            <td>D'Angelo Russell</td> <td>PG      </td> <td>Los Angeles Lakers</td> <td>5.10312       </td>\n",
              "        </tr>\n",
              "        <tr>\n",
              "            <td>Julius Randle   </td> <td>PF      </td> <td>Los Angeles Lakers</td> <td>3.13224       </td>\n",
              "        </tr>\n",
              "        <tr>\n",
              "            <td>Brandon Bass    </td> <td>PF      </td> <td>Los Angeles Lakers</td> <td>3             </td>\n",
              "        </tr>\n",
              "        <tr>\n",
              "            <td>Ryan Kelly      </td> <td>PF      </td> <td>Los Angeles Lakers</td> <td>1.72425       </td>\n",
              "        </tr>\n",
              "        <tr>\n",
              "            <td>Larry Nance Jr. </td> <td>PF      </td> <td>Los Angeles Lakers</td> <td>1.1556        </td>\n",
              "        </tr>\n",
              "        <tr>\n",
              "            <td>Robert Sacre    </td> <td>C       </td> <td>Los Angeles Lakers</td> <td>0.981348      </td>\n",
              "        </tr>\n",
              "    </tbody>\n",
              "</table>\n",
              "<p>... (1 rows omitted)</p>"
            ],
            "text/plain": [
              "PLAYER           | POSITION | TEAM               | '15-'16 SALARY\n",
              "Kobe Bryant      | SF       | Los Angeles Lakers | 25\n",
              "Roy Hibbert      | C        | Los Angeles Lakers | 15.5922\n",
              "Louis Williams   | SG       | Los Angeles Lakers | 7\n",
              "Nick Young       | SF       | Los Angeles Lakers | 5.21917\n",
              "D'Angelo Russell | PG       | Los Angeles Lakers | 5.10312\n",
              "Julius Randle    | PF       | Los Angeles Lakers | 3.13224\n",
              "Brandon Bass     | PF       | Los Angeles Lakers | 3\n",
              "Ryan Kelly       | PF       | Los Angeles Lakers | 1.72425\n",
              "Larry Nance Jr.  | PF       | Los Angeles Lakers | 1.1556\n",
              "Robert Sacre     | C        | Los Angeles Lakers | 0.981348\n",
              "... (1 rows omitted)"
            ]
          },
          "metadata": {
            "tags": []
          },
          "execution_count": 9
        }
      ]
    },
    {
      "cell_type": "code",
      "metadata": {
        "id": "4dbcEX86H2cN",
        "colab": {
          "base_uri": "https://localhost:8080/",
          "height": 77
        },
        "outputId": "9b32b77d-5fa2-4f37-89d8-8ca7d1f241f8"
      },
      "source": [
        "nba.where('PLAYER', 'Stephen Curry')"
      ],
      "execution_count": null,
      "outputs": [
        {
          "output_type": "execute_result",
          "data": {
            "text/html": [
              "<table border=\"1\" class=\"dataframe\">\n",
              "    <thead>\n",
              "        <tr>\n",
              "            <th>PLAYER</th> <th>POSITION</th> <th>TEAM</th> <th>'15-'16 SALARY</th>\n",
              "        </tr>\n",
              "    </thead>\n",
              "    <tbody>\n",
              "        <tr>\n",
              "            <td>Stephen Curry</td> <td>PG      </td> <td>Golden State Warriors</td> <td>11.3708       </td>\n",
              "        </tr>\n",
              "    </tbody>\n",
              "</table>"
            ],
            "text/plain": [
              "PLAYER        | POSITION | TEAM                  | '15-'16 SALARY\n",
              "Stephen Curry | PG       | Golden State Warriors | 11.3708"
            ]
          },
          "metadata": {
            "tags": []
          },
          "execution_count": 10
        }
      ]
    },
    {
      "cell_type": "code",
      "metadata": {
        "id": "6tPT13WhH_ID",
        "colab": {
          "base_uri": "https://localhost:8080/",
          "height": 520
        },
        "outputId": "1ab1b1db-46c0-4745-c3e2-6a56665947df"
      },
      "source": [
        "nba.where('POSITION', 'PG').sort(\"'15-'16 SALARY\", descending=True).show(15)"
      ],
      "execution_count": null,
      "outputs": [
        {
          "output_type": "display_data",
          "data": {
            "text/html": [
              "<table border=\"1\" class=\"dataframe\">\n",
              "    <thead>\n",
              "        <tr>\n",
              "            <th>PLAYER</th> <th>POSITION</th> <th>TEAM</th> <th>'15-'16 SALARY</th>\n",
              "        </tr>\n",
              "    </thead>\n",
              "    <tbody>\n",
              "        <tr>\n",
              "            <td>Chris Paul       </td> <td>PG      </td> <td>Los Angeles Clippers  </td> <td>21.4687       </td>\n",
              "        </tr>\n",
              "        <tr>\n",
              "            <td>Derrick Rose     </td> <td>PG      </td> <td>Chicago Bulls         </td> <td>20.0931       </td>\n",
              "        </tr>\n",
              "        <tr>\n",
              "            <td>Russell Westbrook</td> <td>PG      </td> <td>Oklahoma City Thunder </td> <td>16.7442       </td>\n",
              "        </tr>\n",
              "        <tr>\n",
              "            <td>Kyrie Irving     </td> <td>PG      </td> <td>Cleveland Cavaliers   </td> <td>16.4075       </td>\n",
              "        </tr>\n",
              "        <tr>\n",
              "            <td>John Wall        </td> <td>PG      </td> <td>Washington Wizards    </td> <td>15.852        </td>\n",
              "        </tr>\n",
              "        <tr>\n",
              "            <td>Goran Dragic     </td> <td>PG      </td> <td>Miami Heat            </td> <td>14.783        </td>\n",
              "        </tr>\n",
              "        <tr>\n",
              "            <td>Reggie Jackson   </td> <td>PG      </td> <td>Detroit Pistons       </td> <td>13.913        </td>\n",
              "        </tr>\n",
              "        <tr>\n",
              "            <td>Eric Bledsoe     </td> <td>PG      </td> <td>Phoenix Suns          </td> <td>13.5          </td>\n",
              "        </tr>\n",
              "        <tr>\n",
              "            <td>Tony Parker      </td> <td>PG      </td> <td>San Antonio Spurs     </td> <td>13.4375       </td>\n",
              "        </tr>\n",
              "        <tr>\n",
              "            <td>Ricky Rubio      </td> <td>PG      </td> <td>Minnesota Timberwolves</td> <td>12.7          </td>\n",
              "        </tr>\n",
              "        <tr>\n",
              "            <td>Ty Lawson        </td> <td>PG      </td> <td>Houston Rockets       </td> <td>12.4045       </td>\n",
              "        </tr>\n",
              "        <tr>\n",
              "            <td>Kyle Lowry       </td> <td>PG      </td> <td>Toronto Raptors       </td> <td>12            </td>\n",
              "        </tr>\n",
              "        <tr>\n",
              "            <td>Kemba Walker     </td> <td>PG      </td> <td>Charlotte Hornets     </td> <td>12            </td>\n",
              "        </tr>\n",
              "        <tr>\n",
              "            <td>Stephen Curry    </td> <td>PG      </td> <td>Golden State Warriors </td> <td>11.3708       </td>\n",
              "        </tr>\n",
              "        <tr>\n",
              "            <td>Jrue Holiday     </td> <td>PG      </td> <td>New Orleans Pelicans  </td> <td>10.5955       </td>\n",
              "        </tr>\n",
              "    </tbody>\n",
              "</table>\n",
              "<p>... (70 rows omitted)</p>"
            ],
            "text/plain": [
              "<IPython.core.display.HTML object>"
            ]
          },
          "metadata": {
            "tags": []
          }
        }
      ]
    },
    {
      "cell_type": "markdown",
      "metadata": {
        "id": "m9bIWXygk8nE"
      },
      "source": [
        "We can use `.column()` to extract a specific column, followed by `.item()` to extract a specific row in our table. For example, let's say we want to see which NBA player had the highest salary in 2015-2016. First, we sort by salary, then we take the player column, lastly we take the top row."
      ]
    },
    {
      "cell_type": "code",
      "metadata": {
        "id": "y3uig61elTV-",
        "colab": {
          "base_uri": "https://localhost:8080/",
          "height": 35
        },
        "outputId": "99183f9b-5eda-4b45-bc7a-b5e359b02e7a"
      },
      "source": [
        "nba.sort(\"'15-'16 SALARY\", descending=True).column('PLAYER').item(0)"
      ],
      "execution_count": null,
      "outputs": [
        {
          "output_type": "execute_result",
          "data": {
            "application/vnd.google.colaboratory.intrinsic+json": {
              "type": "string"
            },
            "text/plain": [
              "'Kobe Bryant'"
            ]
          },
          "metadata": {
            "tags": []
          },
          "execution_count": 12
        }
      ]
    },
    {
      "cell_type": "markdown",
      "metadata": {
        "id": "hWF-ZB-AIpXu"
      },
      "source": [
        "## Reading books\n",
        "\n",
        "You can also load an entire book from the online Project Gutenberg!"
      ]
    },
    {
      "cell_type": "code",
      "metadata": {
        "id": "J6fj1YIVI7PV",
        "colab": {
          "base_uri": "https://localhost:8080/",
          "height": 372
        },
        "outputId": "96340985-37ab-472f-c24e-a0b8a07b36f9"
      },
      "source": [
        "import urllib.request\n",
        "little_women_url = 'https://www.inferentialthinking.com/data/little_women.txt'\n",
        "little_women_text = urllib.request.urlopen(little_women_url).read().decode('utf-8')\n",
        "little_women_chapters = little_women_text.split('CHAPTER ')[1:]\n",
        "little_women = Table().with_column('Chapters', little_women_chapters)\n",
        "little_women"
      ],
      "execution_count": null,
      "outputs": [
        {
          "output_type": "execute_result",
          "data": {
            "text/html": [
              "<table border=\"1\" class=\"dataframe\">\n",
              "    <thead>\n",
              "        <tr>\n",
              "            <th>Chapters</th>\n",
              "        </tr>\n",
              "    </thead>\n",
              "    <tbody>\n",
              "        <tr>\n",
              "            <td>ONE\r\n",
              "\r\n",
              "PLAYING PILGRIMS\r\n",
              "\r\n",
              "\"Christmas won't be Christmas ...</td>\n",
              "        </tr>\n",
              "        <tr>\n",
              "            <td>TWO\r\n",
              "\r\n",
              "A MERRY CHRISTMAS\r\n",
              "\r\n",
              "Jo was the first to wake in  ...</td>\n",
              "        </tr>\n",
              "        <tr>\n",
              "            <td>THREE\r\n",
              "\r\n",
              "THE LAURENCE BOY\r\n",
              "\r\n",
              "\"Jo!  Jo!  Where are you?\"  ...</td>\n",
              "        </tr>\n",
              "        <tr>\n",
              "            <td>FOUR\r\n",
              "\r\n",
              "BURDENS\r\n",
              "\r\n",
              "\"Oh, dear, how hard it does seem to t ...</td>\n",
              "        </tr>\n",
              "        <tr>\n",
              "            <td>FIVE\r\n",
              "\r\n",
              "BEING NEIGHBORLY\r\n",
              "\r\n",
              "\"What in the world are you g ...</td>\n",
              "        </tr>\n",
              "        <tr>\n",
              "            <td>SIX\r\n",
              "\r\n",
              "BETH FINDS THE PALACE BEAUTIFUL\r\n",
              "\r\n",
              "The big house  ...</td>\n",
              "        </tr>\n",
              "        <tr>\n",
              "            <td>SEVEN\r\n",
              "\r\n",
              "AMY'S VALLEY OF HUMILIATION\r\n",
              "\r\n",
              "\"That boy is a p ...</td>\n",
              "        </tr>\n",
              "        <tr>\n",
              "            <td>EIGHT\r\n",
              "\r\n",
              "JO MEETS APOLLYON\r\n",
              "\r\n",
              "\"Girls, where are you goin ...</td>\n",
              "        </tr>\n",
              "        <tr>\n",
              "            <td>NINE\r\n",
              "\r\n",
              "MEG GOES TO VANITY FAIR\r\n",
              "\r\n",
              "\"I do think it was th ...</td>\n",
              "        </tr>\n",
              "        <tr>\n",
              "            <td>TEN\r\n",
              "\r\n",
              "THE P.C. AND P.O.\r\n",
              "\r\n",
              "As spring came on, a new set ...</td>\n",
              "        </tr>\n",
              "    </tbody>\n",
              "</table>\n",
              "<p>... (37 rows omitted)</p>"
            ],
            "text/plain": [
              "Chapters\n",
              "ONE\n",
              "\n",
              "PLAYING PILGRIMS\n",
              "\n",
              "\"Christmas won't be Christmas ...\n",
              "TWO\n",
              "\n",
              "A MERRY CHRISTMAS\n",
              "\n",
              "Jo was the first to wake in  ...\n",
              "THREE\n",
              "\n",
              "THE LAURENCE BOY\n",
              "\n",
              "\"Jo!  Jo!  Where are you?\"  ...\n",
              "FOUR\n",
              "\n",
              "BURDENS\n",
              "\n",
              "\"Oh, dear, how hard it does seem to t ...\n",
              "FIVE\n",
              "\n",
              "BEING NEIGHBORLY\n",
              "\n",
              "\"What in the world are you g ...\n",
              "SIX\n",
              "\n",
              "BETH FINDS THE PALACE BEAUTIFUL\n",
              "\n",
              "The big house  ...\n",
              "SEVEN\n",
              "\n",
              "AMY'S VALLEY OF HUMILIATION\n",
              "\n",
              "\"That boy is a p ...\n",
              "EIGHT\n",
              "\n",
              "JO MEETS APOLLYON\n",
              "\n",
              "\"Girls, where are you goin ...\n",
              "NINE\n",
              "\n",
              "MEG GOES TO VANITY FAIR\n",
              "\n",
              "\"I do think it was th ...\n",
              "TEN\n",
              "\n",
              "THE P.C. AND P.O.\n",
              "\n",
              "As spring came on, a new set ...\n",
              "... (37 rows omitted)"
            ]
          },
          "metadata": {
            "tags": []
          },
          "execution_count": 13
        }
      ]
    },
    {
      "cell_type": "code",
      "metadata": {
        "id": "EC1iLnWnLJxH",
        "colab": {
          "base_uri": "https://localhost:8080/",
          "height": 317
        },
        "outputId": "856b0bd0-3f66-4269-c77a-9704a6855f47"
      },
      "source": [
        "# Counts of character names in the chapters of Little Women.\n",
        "counts = Table().with_columns([\n",
        "        'Amy', np.char.count(little_women_chapters, 'Amy'),\n",
        "        'Beth', np.char.count(little_women_chapters, 'Beth'),\n",
        "        'Jo', np.char.count(little_women_chapters, 'Jo'),\n",
        "        'Meg', np.char.count(little_women_chapters, 'Meg'),\n",
        "        'Laurie', np.char.count(little_women_chapters, 'Laurie'),\n",
        "    ])\n",
        "\n",
        "# Plot the cumulative counts (x-axis is the chapter, y-axis is the count).\n",
        "counts.cumsum().plot(overlay=True)\n",
        "\n",
        "# Laurie is a young man who marries one of the women in the end. \n",
        "# TODO: See if you can use the plots to guess which one!\n",
        "# TODO: Who is the main character?"
      ],
      "execution_count": null,
      "outputs": [
        {
          "output_type": "stream",
          "text": [
            "/usr/local/lib/python3.6/dist-packages/datascience/tables.py:192: FutureWarning: Implicit column method lookup is deprecated.\n",
            "  warnings.warn(\"Implicit column method lookup is deprecated.\", FutureWarning)\n"
          ],
          "name": "stderr"
        },
        {
          "output_type": "display_data",
          "data": {
            "image/png": "[encoded data removed]",
            "text/plain": [
              "<Figure size 432x288 with 1 Axes>"
            ]
          },
          "metadata": {
            "tags": [],
            "needs_background": "light"
          }
        }
      ]
    },
    {
      "cell_type": "markdown",
      "metadata": {
        "id": "DZuccFyQOyd1"
      },
      "source": [
        "## Lab time, Part 1: Table operations\n",
        "\n",
        "The table `farmers_markets.csv` contains data on farmers' markets in the United States  (data collected [by the USDA](https://apps.ams.usda.gov/FarmersMarketsExport/ExcelExport.aspx)).  Each row represents one such market.\n",
        "\n",
        "Run the next cell to load the `farmers_markets` table."
      ]
    },
    {
      "cell_type": "code",
      "metadata": {
        "id": "gBjBA8gEO1F3"
      },
      "source": [
        "source = 'https://raw.githubusercontent.com/data-8/materials-fa19/master/materials/fa19/lab/lab02/farmers_markets.csv'\n",
        "farmers_markets = Table.read_table(source)"
      ],
      "execution_count": null,
      "outputs": []
    },
    {
      "cell_type": "markdown",
      "metadata": {
        "id": "bJEBsHo6O4d7"
      },
      "source": [
        "Let's examine our table to see what data it contains.\n",
        "\n",
        "**Question 1.** Use the method `show` to display the first 5 rows of `farmers_markets`. \n",
        "\n",
        "**Hint:** `tbl.show(3)` will show the first 3 rows of a Table named `tbl`. Additionally, make sure not to call `.show()` without an argument, as this might crash your kernel!"
      ]
    },
    {
      "cell_type": "code",
      "metadata": {
        "id": "AaOM4O1kO7Jz"
      },
      "source": [
        "..."
      ],
      "execution_count": null,
      "outputs": []
    },
    {
      "cell_type": "markdown",
      "metadata": {
        "id": "bGSAz5pJPAG-"
      },
      "source": [
        "Notice that some of the values in this table are missing, as denoted by \"nan.\" This means either that the value is not available (e.g. if we don’t know the market’s street address) or not applicable (e.g. if the market doesn’t have a street address). You'll also notice that the table has a large number of columns in it!\n",
        "\n",
        "### `num_columns`\n",
        "\n",
        "The table property `num_columns` returns the number of columns in a table. (A \"property\" is just a method that doesn't need to be called by adding parentheses.)\n",
        "\n",
        "Example call: `<tbl>.num_columns`\n",
        "\n",
        "**Question 2.** Use `num_columns` to find the number of columns in our farmers' markets dataset.\n",
        "\n",
        "Assign the number of columns to `num_farmers_markets_columns`."
      ]
    },
    {
      "cell_type": "code",
      "metadata": {
        "id": "1Obv3gLXPA6a"
      },
      "source": [
        "num_farmers_markets_columns = ...\n",
        "print('The table has', num_farmers_markets_columns, 'columns in it!')"
      ],
      "execution_count": null,
      "outputs": []
    },
    {
      "cell_type": "markdown",
      "metadata": {
        "id": "dO1nshIYPDi-"
      },
      "source": [
        "### `num_rows`\n",
        "\n",
        "Similarly, the property `num_rows` tells you how many rows are in a table."
      ]
    },
    {
      "cell_type": "code",
      "metadata": {
        "id": "ordNeA3aPHoO"
      },
      "source": [
        "num_farmers_markets_rows = ...\n",
        "print('The table has', num_farmers_markets_rows, 'rows in it!')"
      ],
      "execution_count": null,
      "outputs": []
    },
    {
      "cell_type": "markdown",
      "metadata": {
        "id": "1YYtnZtwPJvd"
      },
      "source": [
        "### `select`\n",
        "\n",
        "Most of the columns are about particular products -- whether the market sells tofu, pet food, etc.  If we're not interested in that information, it just makes the table difficult to read.  This comes up more than you might think, because people who collect and publish data may not know ahead of time what people will want to do with it.\n",
        "\n",
        "In such situations, we can use the table method `select` to choose only the columns that we want in a particular table. It takes any number of arguments. Each should be the name of a column in the table. It returns a new table with only those columns in it. The columns are in the order *in which they were listed as arguments*.\n",
        "\n",
        "For example, the value of `farmers_markets.select('MarketName', 'State')` is a table with only the name and the state of each farmers' market in `farmers_markets`.\n",
        "\n",
        "\n",
        "\n",
        "**Question 3.** Use `select` to create a table with only the name, city, state, latitude (`y`), and longitude (`x`) of each market.  Call that new table `farmers_markets_locations`.\n",
        "\n",
        "*Hint:* Make sure to be exact when using column names with `select`; double-check capitalization!"
      ]
    },
    {
      "cell_type": "code",
      "metadata": {
        "id": "VotBkAjuPMlA"
      },
      "source": [
        "farmers_markets_locations = ...\n",
        "farmers_markets_locations"
      ],
      "execution_count": null,
      "outputs": []
    },
    {
      "cell_type": "markdown",
      "metadata": {
        "id": "Qt30qAQDPlps"
      },
      "source": [
        "### `drop`\n",
        "\n",
        "`drop` serves the same purpose as `select`, but it takes away the columns that you provide rather than the ones that you don't provide. Like `select`, `drop` returns a new table.\n",
        "\n",
        "**Question 4.** Suppose you just didn't want the `FMID` or `updateTime` columns in `farmers_markets`.  Create a table that's a copy of `farmers_markets` but doesn't include those columns.  Call that table `farmers_markets_without_fmid`."
      ]
    },
    {
      "cell_type": "code",
      "metadata": {
        "id": "p_FTxhAaPmRx"
      },
      "source": [
        "farmers_markets_without_fmid = ...\n",
        "farmers_markets_without_fmid"
      ],
      "execution_count": null,
      "outputs": []
    },
    {
      "cell_type": "markdown",
      "metadata": {
        "id": "OBDCuW3QQVhz"
      },
      "source": [
        "Now, suppose we want to answer some questions about farmers' markets in the US. For example, which market(s) have the largest longitude (given by the `x` column)? \n",
        "\n",
        "To answer this, we'll sort `farmers_markets_locations` by longitude."
      ]
    },
    {
      "cell_type": "code",
      "metadata": {
        "id": "V6DbgOCLQgRn"
      },
      "source": [
        "farmers_markets_locations.sort('x')"
      ],
      "execution_count": null,
      "outputs": []
    },
    {
      "cell_type": "markdown",
      "metadata": {
        "id": "uuYH6Bo_QYMd"
      },
      "source": [
        "Oops, that didn't answer our question because we sorted from smallest to largest longitude. To look at the largest longitudes, we'll have to sort in reverse order."
      ]
    },
    {
      "cell_type": "code",
      "metadata": {
        "id": "i6gtEhNEQaLq"
      },
      "source": [
        "farmers_markets_locations.sort('x', descending=True)"
      ],
      "execution_count": null,
      "outputs": []
    },
    {
      "cell_type": "markdown",
      "metadata": {
        "id": "HYdi42Y1Ql1M"
      },
      "source": [
        "(The `descending=True` bit is called an *optional argument*. It has a default value of `False`, so when you explicitly tell the function `descending=True`, then the function will sort in descending order.)\n",
        "\n",
        "### `sort`\n",
        "\n",
        "Some details about sort:\n",
        "\n",
        "1. The first argument to `sort` is the name of a column to sort by.\n",
        "2. If the column has text in it, `sort` will sort alphabetically; if the column has numbers, it will sort numerically.\n",
        "3. The value of `farmers_markets_locations.sort('x')` is a *copy* of `farmers_markets_locations`; the `farmers_markets_locations` table doesn't get modified. For example, if we called `farmers_markets_locations.sort('x')`, then running `farmers_markets_locations` by itself would still return the unsorted table.\n",
        "4. Rows always stick together when a table is sorted.  It wouldn't make sense to sort just one column and leave the other columns alone.  For example, in this case, if we sorted just the `x` column, the farmers' markets would all end up with the wrong longitudes.\n",
        "\n",
        "**Question 5.** Create a version of `farmers_markets_locations` that's sorted by **latitude (`y`)**, with the largest latitudes first.  Call it `farmers_markets_locations_by_latitude`."
      ]
    },
    {
      "cell_type": "code",
      "metadata": {
        "id": "8GvCcWHcQo_x"
      },
      "source": [
        "farmers_markets_locations_by_latitude = ...\n",
        "farmers_markets_locations_by_latitude"
      ],
      "execution_count": null,
      "outputs": []
    },
    {
      "cell_type": "markdown",
      "metadata": {
        "id": "VHabjGhLQvam"
      },
      "source": [
        "Now let's say we want a table of all farmers' markets in California. Sorting won't help us much here because California  is closer to the middle of the dataset.\n",
        "\n",
        "Instead, we use the table method `where`."
      ]
    },
    {
      "cell_type": "code",
      "metadata": {
        "id": "-PrvOEaKQv27"
      },
      "source": [
        "california_farmers_markets = farmers_markets_locations.where('State', are.equal_to('California'))\n",
        "california_farmers_markets"
      ],
      "execution_count": null,
      "outputs": []
    },
    {
      "cell_type": "markdown",
      "metadata": {
        "id": "vZsOqdsLQzuw"
      },
      "source": [
        "Ignore the syntax for the moment.  Instead, try to read that line like this:\n",
        "\n",
        "> Assign the name **`california_farmers_markets`** to a table whose rows are the rows in the **`farmers_markets_locations`** table **`where`** the **`'State'`**s **`are` `equal` `to` `California`**.\n",
        "\n",
        "### `where`\n",
        "\n",
        "Now let's dive into the details a bit more.  `where` takes 2 arguments:\n",
        "\n",
        "1. The name of a column.  `where` finds rows where that column's values meet some criterion.\n",
        "2. A predicate that describes the criterion that the column needs to meet.\n",
        "\n",
        "The predicate in the example above called the function `are.equal_to` with the value we wanted, 'California'.  We'll see other predicates soon.\n",
        "\n",
        "`where` returns a table that's a copy of the original table, but **with only the rows that meet the given predicate**.\n",
        "\n",
        "**Question 6.** Use `california_farmers_markets` to create a table called `la_markets` containing farmers' markets in Los Angeles, California."
      ]
    },
    {
      "cell_type": "code",
      "metadata": {
        "id": "7NpwmOs_Q2YZ"
      },
      "source": [
        "la_markets = ...\n",
        "la_markets"
      ],
      "execution_count": null,
      "outputs": []
    },
    {
      "cell_type": "markdown",
      "metadata": {
        "id": "mQm8RqoBQ5Wd"
      },
      "source": [
        "Recognize any of them?\n",
        "\n",
        "So far we've only been using `where` with the predicate that requires finding the values in a column to be *exactly* equal to a certain value. However, there are many other predicates. Here are a few:\n",
        "\n",
        "|Predicate|Example|Result|\n",
        "|-|-|-|\n",
        "|`are.equal_to`|`are.equal_to(50)`|Find rows with values equal to 50|\n",
        "|`are.not_equal_to`|`are.not_equal_to(50)`|Find rows with values not equal to 50|\n",
        "|`are.above`|`are.above(50)`|Find rows with values above (and not equal to) 50|\n",
        "|`are.above_or_equal_to`|`are.above_or_equal_to(50)`|Find rows with values above 50 or equal to 50|\n",
        "|`are.below`|`are.below(50)`|Find rows with values below 50|\n",
        "|`are.between`|`are.between(2, 10)`|Find rows with values above or equal to 2 and below 10|"
      ]
    },
    {
      "cell_type": "markdown",
      "metadata": {
        "id": "z6OIe1ApQ-6F"
      },
      "source": [
        "## Part 2: Analyzing a dataset\n",
        "\n",
        "Now that you're familiar with table operations, let’s answer some interesting questions about a dataset!\n",
        "\n",
        "Run the cell below to load the `imdb` table. It contains information about the 250 highest-rated movies on IMDb."
      ]
    },
    {
      "cell_type": "code",
      "metadata": {
        "id": "ZQVTSKVyQ_gA"
      },
      "source": [
        "imdb = Table.read_table('https://raw.githubusercontent.com/data-8/materials-fa19/master/materials/fa19/lab/lab02/imdb.csv')\n",
        "imdb"
      ],
      "execution_count": null,
      "outputs": []
    },
    {
      "cell_type": "markdown",
      "metadata": {
        "id": "q2b9qyHVRE8-"
      },
      "source": [
        "**Question 7.** Using `where` and one of the predicates from the table above, find all movies with a rating higher than 8.5.  Assign this filtered table to the name `really_highly_rated`. It should contain the same columns as `imdb`."
      ]
    },
    {
      "cell_type": "code",
      "metadata": {
        "id": "xW6T3IovRFnk"
      },
      "source": [
        "really_highly_rated = ...\n",
        "really_highly_rated"
      ],
      "execution_count": null,
      "outputs": []
    },
    {
      "cell_type": "markdown",
      "metadata": {
        "id": "Hz-2LOtzRNr9"
      },
      "source": [
        "Often, we want to perform multiple operations - sorting, filtering, or others - in order to turn a table we have into something more useful. You can do these operations one by one, e.g.\n",
        "\n",
        "```\n",
        "first_step = original_tbl.where('col1', are.equal_to(12))\n",
        "second_step = first_step.sort('col2', descending=True)\n",
        "```\n",
        "\n",
        "However, since the value of the expression `original_tbl.where('col1', are.equal_to(12))` is itself a table, you can just call a table method on it:\n",
        "\n",
        "```\n",
        "original_tbl.where('col1', are.equal_to(12)).sort('col2', descending=True)\n",
        "```\n",
        "You should organize your work in the way that makes the most sense to you, using informative names for any intermediate tables you create. "
      ]
    },
    {
      "cell_type": "markdown",
      "metadata": {
        "id": "ptdY08EERQkL"
      },
      "source": [
        "**Question 8.** Create a table of movies released between 2010 and 2016 (inclusive) with ratings above 8. The table should only contain the columns `Title` and `Rating`, **in that order**.\n",
        "\n",
        "Assign the table to the name `above_eight`.\n",
        "\n",
        "*Hint:* Think about the steps you need to take, and try to put them in an order that make sense. Feel free to create intermediate tables for each step, but please make sure you assign your final table the name `above_eight`!"
      ]
    },
    {
      "cell_type": "code",
      "metadata": {
        "id": "HypvqmfsRTX6"
      },
      "source": [
        "above_eight = ...\n",
        "above_eight"
      ],
      "execution_count": null,
      "outputs": []
    },
    {
      "cell_type": "markdown",
      "metadata": {
        "id": "2E0_S9F6RgIj"
      },
      "source": [
        "## Summary\n",
        "\n",
        "For your reference, here's a table of all the functions and methods we saw in this notebook. We'll learn more methods to work with data in the coming weeks!\n",
        "\n",
        "|Name|Example|Purpose|\n",
        "|-|-|-|\n",
        "|`sort`|`tbl.sort('N')`|Create a copy of a table sorted by the values in a column|\n",
        "|`where`|`tbl.where('N', are.above(2))`|Create a copy of a table with only the rows that match some *predicate*|\n",
        "|`num_rows`|`tbl.num_rows`|Compute the number of rows in a table|\n",
        "|`num_columns`|`tbl.num_columns`|Compute the number of columns in a table|\n",
        "|`select`|`tbl.select('N')`|Create a copy of a table with only some of the columns|\n",
        "|`drop`|`tbl.drop('2*N')`|Create a copy of a table without some of the columns|"
      ]
    }
  ]
}
