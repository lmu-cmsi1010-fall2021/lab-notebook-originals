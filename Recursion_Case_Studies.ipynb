{
  "nbformat": 4,
  "nbformat_minor": 0,
  "metadata": {
    "colab": {
      "name": "12 Recursion Case Studies.ipynb",
      "provenance": [],
      "authorship_tag": "ABX9TyMpnvg9Fmbkk88/5LZQXje0",
      "include_colab_link": true
    },
    "kernelspec": {
      "name": "python3",
      "display_name": "Python 3"
    },
    "language_info": {
      "name": "python"
    }
  },
  "cells": [
    {
      "cell_type": "markdown",
      "metadata": {
        "id": "view-in-github",
        "colab_type": "text"
      },
      "source": [
        "<a href=\"https://colab.research.google.com/github/lmu-cmsi1010-fall2021/lab-notebook-originals/blob/main/Recursion_Case_Studies.ipynb\" target=\"_parent\"><img src=\"https://colab.research.google.com/assets/colab-badge.svg\" alt=\"Open In Colab\"/></a>"
      ]
    },
    {
      "cell_type": "markdown",
      "metadata": {
        "id": "A7vhprDoID90"
      },
      "source": [
        "# Training Your Brain for Recursion\n",
        "\n",
        "Recursion is one of the first truly foundational computer science concepts learned by computer scientists in training, and as such encountering it for the first time may require some brain “adjustments.” Once recursive thinking has settled in, we hope that you will find it to be an elegant way to approach solving certain problems.\n",
        "\n",
        "## Thinking about a solution in terms of smaller versions of itself\n",
        "\n",
        "Iterative solutions involve reaching a solution by repeating the same activity.\n",
        "\n",
        "\n",
        "\n"
      ]
    },
    {
      "cell_type": "code",
      "metadata": {
        "id": "EeFuhZY3KONu"
      },
      "source": [
        "# An iterative countdown repeats a printout in a loop.\n",
        "def iterative_countdown(n):\n",
        "    for i in range(n, 0, -1):\n",
        "        print(i)\n",
        "    print('Blast off!')\n",
        "\n",
        "iterative_countdown(3)\n"
      ],
      "execution_count": null,
      "outputs": []
    },
    {
      "cell_type": "markdown",
      "metadata": {
        "id": "HSF8wKQ9KE2w"
      },
      "source": [
        "When thinking recursively, try to identify a smaller version of the same problem within the task.\n",
        "*   If a problem gets progressively smaller, then it reaches a point where the answer becomes immediate or obvious\n",
        "*   The key is to then work out how to break a problem’s solution up into this minimal version (the *base case*) and its smaller version (the *recursive case*)\n",
        "\n",
        "For a countdown, you can think of it as “printing where we are, then counting down from one less than where we are:”\n"
      ]
    },
    {
      "cell_type": "code",
      "metadata": {
        "id": "BgqnkQnFGsPl"
      },
      "source": [
        "def recursive_countdown(n):\n",
        "    if n == 0:\n",
        "        print('Blast off!')\n",
        "    else:\n",
        "        print(n)\n",
        "        recursive_countdown(n - 1)\n",
        "\n",
        "recursive_countdown(3)"
      ],
      "execution_count": null,
      "outputs": []
    },
    {
      "cell_type": "markdown",
      "metadata": {
        "id": "9c5rkunELPJ-"
      },
      "source": [
        "Notice the results look the same—*and that’s OK*. Recursion is frequently something that can only be seen when looking at the code or under the hood of a program."
      ]
    },
    {
      "cell_type": "markdown",
      "metadata": {
        "id": "wOpldd7QLmiO"
      },
      "source": [
        "### Factorial\n",
        "The factorial of *n* (`n!`) can be thought of as “multiply *n* by the factorial of *n – 1*.” At what point do you know `n!` without breaking it up further? That would be `1!`, which is defined to be `1` straightaway.\n",
        "\n",
        "* *Base case:* `1! == 1`\n",
        "* *Recursive case:* `n! == n * (n - 1)!`"
      ]
    },
    {
      "cell_type": "code",
      "metadata": {
        "id": "KUrgxctqMUlD"
      },
      "source": [
        " def factorial(n):\n",
        "     if n == 1:\n",
        "         return 1\n",
        "\n",
        "     else:\n",
        "         return n * factorial(n - 1)"
      ],
      "execution_count": null,
      "outputs": []
    },
    {
      "cell_type": "code",
      "metadata": {
        "id": "dwodAeRaMc1L"
      },
      "source": [
        "# Try different values of n! here:\n",
        "factorial(4)"
      ],
      "execution_count": null,
      "outputs": []
    },
    {
      "cell_type": "markdown",
      "metadata": {
        "id": "4VNPNQibMnC2"
      },
      "source": [
        "### Summation\n",
        "The cumulative sum `1 + 2 + 3 + 4 + … + n` can also be thought about recursively. Yes, Gauss came up with a shortcut 😅 but the point here is learning how to think about a problem/solution in terms of a smaller version of itself.\n",
        "\n",
        "For conciseness, let’s call this cumulative sum `𝚺n`. Now let’s try to adjust our brains to think about it recursively:\n",
        "\n",
        "* Rephrase `𝚺n` in terms of a smaller version of itself: __________\n",
        "* State the base case for `𝚺n`: __________\n",
        "* State the recursive case for `𝚺n`: __________"
      ]
    },
    {
      "cell_type": "code",
      "metadata": {
        "id": "ZG3C-wKtOLEf"
      },
      "source": [
        "# Use this space to try coding it up!\n",
        "def summation(n):\n",
        "    pass"
      ],
      "execution_count": null,
      "outputs": []
    },
    {
      "cell_type": "code",
      "metadata": {
        "id": "gaChYnJVPCrn"
      },
      "source": [
        "# Try different values of summation(n) here:\n",
        "summation(4)"
      ],
      "execution_count": null,
      "outputs": []
    },
    {
      "cell_type": "markdown",
      "metadata": {
        "id": "KfS8lbyLOTZe"
      },
      "source": [
        "### Walking Forward\n",
        "Consider the task “walk forward *n* steps.” Try thinking about that recursively:\n",
        "* Rephrase “walk forward *n* steps” in terms of a smaller version of itself: __________\n",
        "* State the base case for “walk forward *n* steps:” __________\n",
        "* State the recursive case for “walk forward *n* steps:” __________"
      ]
    },
    {
      "cell_type": "code",
      "metadata": {
        "id": "gV8S6zWDOwzy"
      },
      "source": [
        "# Use this space to try coding it up!\n",
        "# (do a print('Forward!') to represent making a step forward)\n",
        "def walk_forward(n):\n",
        "    print('Forward!')"
      ],
      "execution_count": null,
      "outputs": []
    },
    {
      "cell_type": "code",
      "metadata": {
        "id": "xm9I46u8PHR5"
      },
      "source": [
        "# Try different walks here:\n",
        "walk_forward(4)"
      ],
      "execution_count": null,
      "outputs": []
    },
    {
      "cell_type": "markdown",
      "metadata": {
        "id": "srPngW2WPQEl"
      },
      "source": [
        "### (advanced!) “Degrees of Separation”\n",
        "Social networks maintain a list of your friends. Those friends have lists of *their* friends. Each “level” of friends is sometimes considered a “degree of separation.” So a “friend of a friend” is two (2) degrees of separation away from you.\n",
        "\n",
        "* Rephrase “everyone who is *n* degrees of separation from me” in terms of smaller versions of that concept: __________\n",
        "* State the base case for “everyone who is *n* degrees of separation from me:” __________\n",
        "* State the recursive case for “everyone who is *n* degrees of separation from me:” __________ (*Hint:* This one doesn’t exactly match the pattern established by the previous examples!)\n",
        "\n",
        "Coding this up is a little more advanced than the others—consider it a stretch exercise!"
      ]
    },
    {
      "cell_type": "code",
      "metadata": {
        "id": "P41NcOgBQxI7"
      },
      "source": [
        "# For simplicity, we can think of \"someone\" as a single letter.\n",
        "# The \"social network\" is a dictionary where each key stands for\n",
        "# a user, and its value is the list of that user's friends.\n",
        "# If a letter isn't in the dictionary, we may assume that their\n",
        "# list of friends is empty.\n",
        "social_network = {\n",
        "    'a': [],\n",
        "    'b': ['a', 'e', 'f', 'z'],\n",
        "    'c': ['b', 'd', 'z'],\n",
        "    'd': ['c'],\n",
        "    'e': ['b', 'c'],\n",
        "    'f': ['d', 'e', 'g']\n",
        "}\n",
        "\n",
        "def friends_at_degree_of_separation(user, degree):\n",
        "    if degree == 1:\n",
        "        return social_network.get(user, [])\n",
        "    \n",
        "    friends = social_network.get(user, [])\n",
        "    network = list(friends)\n",
        "    for friend in friends:\n",
        "        subnet = friends_at_degree_of_separation(friend, degree - 1)\n",
        "        for subfriend in subnet:\n",
        "            if not subfriend in network and subfriend != user:\n",
        "                  network.append(subfriend)\n",
        "    return network"
      ],
      "execution_count": null,
      "outputs": []
    },
    {
      "cell_type": "code",
      "metadata": {
        "id": "fZ6giRkDRoJv"
      },
      "source": [
        "# Explore different friend networks here:\n",
        "print(friends_at_degree_of_separation('a', 1))\n",
        "print(friends_at_degree_of_separation('b', 1))\n",
        "print(friends_at_degree_of_separation('c', 1))\n",
        "print(friends_at_degree_of_separation('c', 2))\n",
        "print(friends_at_degree_of_separation('c', 3))"
      ],
      "execution_count": null,
      "outputs": []
    }
  ]
}