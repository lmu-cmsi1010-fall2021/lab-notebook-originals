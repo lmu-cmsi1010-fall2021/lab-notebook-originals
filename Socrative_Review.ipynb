{
  "nbformat": 4,
  "nbformat_minor": 0,
  "metadata": {
    "colab": {
      "name": "Socrative_Review.ipynb",
      "provenance": [],
      "authorship_tag": "ABX9TyOB0nmQefQih7IJB9i2UqpP",
      "include_colab_link": true
    },
    "kernelspec": {
      "name": "python3",
      "display_name": "Python 3"
    },
    "language_info": {
      "name": "python"
    }
  },
  "cells": [
    {
      "cell_type": "markdown",
      "metadata": {
        "id": "view-in-github",
        "colab_type": "text"
      },
      "source": [
        "<a href=\"https://colab.research.google.com/github/lmu-cmsi1010-fall2021/lab-notebook-originals/blob/main/Socrative_Review.ipynb\" target=\"_parent\"><img src=\"https://colab.research.google.com/assets/colab-badge.svg\" alt=\"Open In Colab\"/></a>"
      ]
    },
    {
      "cell_type": "code",
      "metadata": {
        "colab": {
          "base_uri": "https://localhost:8080/"
        },
        "id": "McfWxYCTqAP7",
        "outputId": "c22c5148-6127-42f4-d925-a7f961c43522"
      },
      "source": [
        "#Credit to Nathan Greenfield for sharing Candy example\n",
        "\n",
        "class Candy():\n",
        "    def __init__(self, cname, ccal):\n",
        "        self.name = cname\n",
        "        self.cals = ccal\n",
        "\n",
        "    def __str__(self):\n",
        "        msg = self.name + \" : cals = \" + str(self.cals)\n",
        "        return msg\n",
        "\n",
        "\n",
        "class Chocolate(Candy):\n",
        "    def __init__(self, cname, ccal, pcocoa):\n",
        "        super().__init__(cname, ccal)\n",
        "        self.percocoa = pcocoa\n",
        "\n",
        "    def __str__(self):\n",
        "        msg = super().__str__() + \", \"\n",
        "        msg += str(self.percocoa) + \"%\"\n",
        "        return msg\n",
        "\n",
        "class HardCandy(Candy):\n",
        "    def __init__(self, cname, ccal, flavor):\n",
        "        super().__init__(cname, ccal)\n",
        "        self.flavor = flavor\n",
        "\n",
        "    def __str__(self):\n",
        "        msg = super().__str__() + \", \"\n",
        "        msg += self.flavor\n",
        "        return msg\n",
        "\n",
        "candyPile = []\n",
        "candyPile.append(Candy(\"Tootsie Roll\", 100))\n",
        "candyPile.append(Chocolate(\"Hersheys\", 140, 35))\n",
        "candyPile.append(HardCandy(\"Lemonheads\", 90, \"lemon\"))\n",
        "\n",
        "for item in candyPile:\n",
        "    print(item)\n",
        "\n",
        "\n",
        "\n",
        "\n",
        "\n",
        "red_hot = HardCandy(\"RedHots\", 90, \"cinnamon\")\n",
        "\n",
        "print(red_hot.flavor)\n",
        "print(red_hot.cals)\n",
        "\n",
        "variable1 = {\"I\":1, \"V\":5, \"X\": 10, \"L\": 50, \"C\": 100, \"D\": 500, \"M\": 1000}\n",
        "\n",
        "\n",
        "\n",
        "print(\"J\" in variable1)\n",
        "for key in variable1:\n",
        "     if variable1[key] == 100:\n",
        "       print(key)\n",
        "\n",
        "\n"
      ],
      "execution_count": 1,
      "outputs": [
        {
          "output_type": "stream",
          "name": "stdout",
          "text": [
            "Tootsie Roll : cals = 100\n",
            "Hersheys : cals = 140, 35%\n",
            "Lemonheads : cals = 90, lemon\n",
            "cinnamon\n",
            "90\n",
            "False\n",
            "C\n"
          ]
        }
      ]
    }
  ]
}