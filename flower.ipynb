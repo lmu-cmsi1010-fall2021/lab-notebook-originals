{
  "nbformat": 4,
  "nbformat_minor": 0,
  "metadata": {
    "colab": {
      "name": "flower.ipynb",
      "provenance": [],
      "collapsed_sections": [],
      "authorship_tag": "ABX9TyNuIqYHgPVQaZjZN+VeNksB",
      "include_colab_link": true
    },
    "kernelspec": {
      "name": "python3",
      "display_name": "Python 3"
    },
    "language_info": {
      "name": "python"
    }
  },
  "cells": [
    {
      "cell_type": "markdown",
      "metadata": {
        "id": "view-in-github",
        "colab_type": "text"
      },
      "source": [
        "<a href=\"https://colab.research.google.com/github/lmu-cmsi1010-fall2021/lab-notebook-originals/blob/main/flower.ipynb\" target=\"_parent\"><img src=\"https://colab.research.google.com/assets/colab-badge.svg\" alt=\"Open In Colab\"/></a>"
      ]
    },
    {
      "cell_type": "markdown",
      "metadata": {
        "id": "n29pE0L0-b4U"
      },
      "source": [
        "# Recursive Flower Shop Logo!\n",
        "\n",
        "Design a recursive logo for your flower shop using ColabTurtle! In other words, the logo should contain portions that are smaller versions of the logo itself.\n",
        "\n",
        "To get you started, a suite of functions has been made available. Mix and match these functions along with a loop in order to create your own logo. Don’t hesitate to use colors, different pen sizes, and other variations! Visit https://github.com/tolgaatam/ColabTurtle to see the possibilities.\n",
        "\n",
        "## Initialization\n",
        "\n",
        "Do the usual setup…"
      ]
    },
    {
      "cell_type": "code",
      "metadata": {
        "id": "tDfFNciZ-XBJ"
      },
      "source": [
        "!pip3 install ColabTurtle"
      ],
      "execution_count": null,
      "outputs": []
    },
    {
      "cell_type": "markdown",
      "metadata": {
        "id": "S_aGsggTBH1I"
      },
      "source": [
        "Once that succeeds, run this one next to import everything in the module:"
      ]
    },
    {
      "cell_type": "code",
      "metadata": {
        "id": "F135OM02BD6G"
      },
      "source": [
        "from ColabTurtle.Turtle import *"
      ],
      "execution_count": null,
      "outputs": []
    },
    {
      "cell_type": "markdown",
      "metadata": {
        "id": "l3nxdBaWBeXY"
      },
      "source": [
        "## Seeds and Sprouts\n",
        "\n",
        "The following code, derived from the author of our textbook, *Think Python*, provides some turtle functions that can be used to build your flower logo:"
      ]
    },
    {
      "cell_type": "code",
      "metadata": {
        "id": "yc7-Klz1B9Ow"
      },
      "source": [
        "# Derived from:\n",
        "# https://github.com/AllenDowney/ThinkPython2/blob/master/code/polygon.py\n",
        "#\n",
        "# by Allen Downey\n",
        "import math\n",
        "\n",
        "\n",
        "def square(length):\n",
        "    \"\"\"Draws a square with sides of the given length.\n",
        "    Returns the Turtle to the starting position and location.\n",
        "    \"\"\"\n",
        "    for i in range(4):\n",
        "        fd(length)\n",
        "        lt(90)\n",
        "\n",
        "\n",
        "def polyline(n, length, angle):\n",
        "    \"\"\"Draws n line segments.\n",
        "    n: number of line segments\n",
        "    length: length of each segment\n",
        "    angle: degrees between segments\n",
        "    \"\"\"\n",
        "    for i in range(n):\n",
        "        fd(length)\n",
        "        lt(angle)\n",
        "\n",
        "\n",
        "def polygon(n, length):\n",
        "    \"\"\"Draws a polygon with n sides.\n",
        "    n: number of sides\n",
        "    length: length of each side.\n",
        "    \"\"\"\n",
        "    angle = 360.0/n\n",
        "    polyline(n, length, angle)\n",
        "\n",
        "\n",
        "def arc(r, angle):\n",
        "    \"\"\"Draws an arc with the given radius and angle.\n",
        "    r: radius\n",
        "    angle: angle subtended by the arc, in degrees\n",
        "    \"\"\"\n",
        "    arc_length = 2 * math.pi * r * abs(angle) / 360\n",
        "    n = int(arc_length / 4) + 3\n",
        "    step_length = arc_length / n\n",
        "    step_angle = float(angle) / n\n",
        "\n",
        "    # making a slight left turn before starting reduces\n",
        "    # the error caused by the linear approximation of the arc\n",
        "    lt(step_angle/2)\n",
        "    polyline(n, step_length, step_angle)\n",
        "    rt(step_angle/2)\n",
        "\n",
        "\n",
        "def circle(r):\n",
        "    \"\"\"Draws a circle with the given radius.\n",
        "    r: radius\n",
        "    \"\"\"\n",
        "    arc(r, 360)"
      ],
      "execution_count": null,
      "outputs": []
    },
    {
      "cell_type": "markdown",
      "metadata": {
        "id": "tVxyZ3cXCZsj"
      },
      "source": [
        "## Sample Code\n",
        "\n",
        "Here’s a sample script that uses the `circle` function:"
      ]
    },
    {
      "cell_type": "code",
      "metadata": {
        "id": "gqq1DGOzCdXk"
      },
      "source": [
        "initializeTurtle()\n",
        "\n",
        "# draw a circle centered on the origin\n",
        "speed(13) # circle needs quite a few steps.\n",
        "radius = 100\n",
        "pu()\n",
        "fd(radius)\n",
        "lt(90)\n",
        "pd()\n",
        "circle(radius)\n"
      ],
      "execution_count": null,
      "outputs": []
    },
    {
      "cell_type": "markdown",
      "metadata": {
        "id": "4ftTgeDcC8h0"
      },
      "source": [
        "This sample draws a *rudimentary* flower—you can do better, for sure!"
      ]
    },
    {
      "cell_type": "code",
      "metadata": {
        "id": "ORdlUhl2DCL5"
      },
      "source": [
        "# Derived from code written by Allen Downey.\n",
        "def basic_petal(r, angle):\n",
        "    \"\"\"Draws a basic petal using two arcs.\n",
        "    r: radius of the arcs\n",
        "    angle: angle (degrees) that subtends the arcs\n",
        "    \"\"\"\n",
        "    for i in range(2):\n",
        "        arc(r, angle)\n",
        "        lt(180 - angle)\n",
        "\n",
        "\n",
        "def basic_flower(n, r, angle):\n",
        "    \"\"\"Draws a flower with n petals.\n",
        "    n: number of petals\n",
        "    r: radius of the arcs\n",
        "    angle: angle (degrees) that subtends the arcs\n",
        "    \"\"\"\n",
        "    delta = 360.0 / n\n",
        "    for petal_number in range(n):\n",
        "        basic_petal(r, angle)\n",
        "        lt(delta)\n",
        "\n",
        "initializeTurtle()\n",
        "speed(13) # arc needs quite a few steps.\n",
        "basic_flower(7, 200, 60)"
      ],
      "execution_count": null,
      "outputs": []
    },
    {
      "cell_type": "markdown",
      "metadata": {
        "id": "VnGAoG00EBUr"
      },
      "source": [
        "## Your Turn…Recursively\n",
        "\n",
        "Write a `petal` function that draws a single petal on your flower—make sure to change things up from the sample `basic_petal` above!\n",
        "* You may change up your arguments, but maintain at least an `r` argument so that your petal’s size can be customized.\n",
        "* Feel free to use the helper functions provided above, but no problem either if you want to roll your own.\n",
        "\n",
        "Using `petal`, write a `flower_logo` function that draws your overall logo.\n",
        "* Like `petal`, you may change up your arguments but you must maintain `n` and `r` arguments at a minimum, which change the number of petals and the size of the logo, respectively.\n",
        "* To fulfill the recursion requirement for your logo, *either* `petal` or `flower_logo` must call itself. In what way or in what combination is up to you!\n",
        "\n",
        "Don’t forget, you can change colors and pen size to mix things up even more!\n",
        "\n"
      ]
    },
    {
      "cell_type": "code",
      "metadata": {
        "id": "YnuHmyKBSRmJ"
      },
      "source": [
        "def petal(r): # Add more arguments as you see fit.\n",
        "    pass\n",
        "\n",
        "\n",
        "def flower_logo(n, r): # Add more arguments as you see fit.\n",
        "    pass\n",
        "\n",
        "\n",
        "initializeTurtle()\n",
        "flower_logo(11, 104) # Modify as you like."
      ],
      "execution_count": null,
      "outputs": []
    }
  ]
}