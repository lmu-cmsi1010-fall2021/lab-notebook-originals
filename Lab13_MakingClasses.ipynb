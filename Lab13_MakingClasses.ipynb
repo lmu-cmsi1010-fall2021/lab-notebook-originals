{
  "nbformat": 4,
  "nbformat_minor": 0,
  "metadata": {
    "colab": {
      "name": "Lab13_MakingClasses.ipynb",
      "provenance": [],
      "collapsed_sections": [],
      "include_colab_link": true
    },
    "kernelspec": {
      "name": "python3",
      "display_name": "Python 3"
    },
    "language_info": {
      "name": "python"
    }
  },
  "cells": [
    {
      "cell_type": "markdown",
      "metadata": {
        "id": "view-in-github",
        "colab_type": "text"
      },
      "source": [
        "<a href=\"https://colab.research.google.com/github/lmu-cmsi1010-fall2021/lab-notebook-originals/blob/main/Lab13_MakingClasses.ipynb\" target=\"_parent\"><img src=\"https://colab.research.google.com/assets/colab-badge.svg\" alt=\"Open In Colab\"/></a>"
      ]
    },
    {
      "cell_type": "markdown",
      "metadata": {
        "id": "buuJhZMMNQoW"
      },
      "source": [
        "\n",
        "# Making classes\n",
        "In this lab you will complete the dog class from the slides and create a class for a person to be the owner of the dog. You will also create a class for complex numbers."
      ]
    },
    {
      "cell_type": "markdown",
      "metadata": {
        "id": "cFmY8Nj8OVf4"
      },
      "source": [
        "## Dog Class from the Slides\n",
        "In the following cell we have included that `Dog` class from the slides. To this class add a method called `exercise` that will subtract the given `amount` from the weight of the dog (i.e., it is the opposite of `eat`—if only it were that simple in real life!). Once you have completed this code, run this cell even though you will not see output yet."
      ]
    },
    {
      "cell_type": "code",
      "metadata": {
        "id": "2H9KiTyoNPR3"
      },
      "source": [
        "class Dog():\n",
        "    \"\"\"The Dog has a name, weight, and breed. It can eat or exercise.\"\"\"\n",
        "     \n",
        "    # Constructor as given in slides\n",
        "    def __init__(self, name, weight, breed):\n",
        "        self.name = name\n",
        "        self.weight = weight\n",
        "        self.breed = breed\n",
        "\n",
        "    # Method for the dog to eat given in slides\n",
        "    # Notice that the weight of the dog increases\n",
        "    # by the amount fed    \n",
        "    def eat(self, amount):\n",
        "        self.weight += amount\n",
        "\n",
        "    # Write a method called exercise\n",
        "    # that takes an amount and decreases the\n",
        "    # dog's weight by that amount\n",
        "    # TO DO: ADD METHOD EXERCISE BELOW"
      ],
      "execution_count": 1,
      "outputs": []
    },
    {
      "cell_type": "markdown",
      "metadata": {
        "id": "vrccqrkTOYZ3"
      },
      "source": [
        "## Person Class for Owners\n",
        "In the following cell you will complete the constructor for the `Person` class for dog owners. Each person has a `name`, a `dog`, and a `generosity` level. The `generosity` level is a value between 0 and 1 (inclusive) that is the amount of a pound of food that owners feed their dogs. You will also complete the `feed_dog` method for the `Person`. This method will feed the owners' dogs the amount of their generosity. Once you have completed this code, run this cell even though you will see not output yet.\n"
      ]
    },
    {
      "cell_type": "code",
      "metadata": {
        "id": "E3sTGBcCNtU7"
      },
      "source": [
        "class Person(object):\n",
        "    \"\"\"The Person has a name, a Dog, and a generosity. It can feed its Dog.\"\"\"\n",
        "\n",
        "    # TO DO: Complete the constructor the the Person below\n",
        "    # Be sure to save each input parameter except\n",
        "    # self as an attribute\n",
        "    def __init__(self, name, dog, generosity):\n",
        "        pass\n",
        "\n",
        "    # TO DO: Complete the following feed_dog method\n",
        "    # the amount of food that people\n",
        "    # feed their dogs are their generosity \n",
        "    def feed_dog(self):\n",
        "        pass"
      ],
      "execution_count": 2,
      "outputs": []
    },
    {
      "cell_type": "markdown",
      "metadata": {
        "id": "hTC8Hx3aVlNu"
      },
      "source": [
        "## Testing the Dog and Person Classes\n",
        "\n",
        "The following code can be run to test your implementations of the `Dog` and `Person` classes. The comments indicate the desired results. You can change this cell to test your code."
      ]
    },
    {
      "cell_type": "code",
      "metadata": {
        "id": "h6zqeDnpG6tv",
        "colab": {
          "base_uri": "https://localhost:8080/",
          "height": 236
        },
        "outputId": "2c9070e6-ba2d-4eec-f6ec-a05ac4f1399c"
      },
      "source": [
        "\n",
        "# Create a Person object with name Gregory\n",
        "# Gregory owns a Border Terrier named Hickory.\n",
        "# Gregory's generosity is 0.1.\n",
        "#\n",
        "#  - The dog parameter for creating the Person object for Gregory\n",
        "#    will be the Dog object that is created for Hickory.\n",
        "#\n",
        "#  - The generosity is a floating point number such that 0 ≤ generosity ≤ 1\n",
        "#\n",
        "owner = None # TO DO: Instantiate the owner and dog!\n",
        "\n",
        "print(owner.name + ' owns a ' + owner.dog.breed + ' named ' + owner.dog.name)\n",
        "print(owner.dog.name + ' weighs ' + format(owner.dog.weight, 'f') + ' lbs.')\n",
        "# Should be 'Gregory owns a Border Terrier named Hickory'\n",
        "#           'Hickory weighs 15.200000 lbs.'\n",
        "\n",
        "# Gregory feeds Hickory.\n",
        "# TO DO: Make Gregory feed Hickory.\n",
        "print('After eating ' + owner.dog.name + ' weighs ' \\\n",
        "      + format(owner.dog.weight,'f') + ' lbs.')\n",
        "# Should be 'After eating Hickory weighs 15.300000 lbs.'"
      ],
      "execution_count": 3,
      "outputs": [
        {
          "output_type": "error",
          "ename": "AttributeError",
          "evalue": "ignored",
          "traceback": [
            "\u001b[0;31m---------------------------------------------------------------------------\u001b[0m",
            "\u001b[0;31mAttributeError\u001b[0m                            Traceback (most recent call last)",
            "\u001b[0;32m<ipython-input-3-22e754bef9f9>\u001b[0m in \u001b[0;36m<module>\u001b[0;34m()\u001b[0m\n\u001b[1;32m     11\u001b[0m \u001b[0mowner\u001b[0m \u001b[0;34m=\u001b[0m \u001b[0;32mNone\u001b[0m \u001b[0;31m# TO DO: Instantiate the owner and dog!\u001b[0m\u001b[0;34m\u001b[0m\u001b[0;34m\u001b[0m\u001b[0m\n\u001b[1;32m     12\u001b[0m \u001b[0;34m\u001b[0m\u001b[0m\n\u001b[0;32m---> 13\u001b[0;31m \u001b[0mprint\u001b[0m\u001b[0;34m(\u001b[0m\u001b[0mowner\u001b[0m\u001b[0;34m.\u001b[0m\u001b[0mname\u001b[0m \u001b[0;34m+\u001b[0m \u001b[0;34m' owns a '\u001b[0m \u001b[0;34m+\u001b[0m \u001b[0mowner\u001b[0m\u001b[0;34m.\u001b[0m\u001b[0mdog\u001b[0m\u001b[0;34m.\u001b[0m\u001b[0mbreed\u001b[0m \u001b[0;34m+\u001b[0m \u001b[0;34m' named '\u001b[0m \u001b[0;34m+\u001b[0m \u001b[0mowner\u001b[0m\u001b[0;34m.\u001b[0m\u001b[0mdog\u001b[0m\u001b[0;34m.\u001b[0m\u001b[0mname\u001b[0m\u001b[0;34m)\u001b[0m\u001b[0;34m\u001b[0m\u001b[0;34m\u001b[0m\u001b[0m\n\u001b[0m\u001b[1;32m     14\u001b[0m \u001b[0mprint\u001b[0m\u001b[0;34m(\u001b[0m\u001b[0mowner\u001b[0m\u001b[0;34m.\u001b[0m\u001b[0mdog\u001b[0m\u001b[0;34m.\u001b[0m\u001b[0mname\u001b[0m \u001b[0;34m+\u001b[0m \u001b[0;34m' weighs '\u001b[0m \u001b[0;34m+\u001b[0m \u001b[0mformat\u001b[0m\u001b[0;34m(\u001b[0m\u001b[0mowner\u001b[0m\u001b[0;34m.\u001b[0m\u001b[0mdog\u001b[0m\u001b[0;34m.\u001b[0m\u001b[0mweight\u001b[0m\u001b[0;34m,\u001b[0m \u001b[0;34m'f'\u001b[0m\u001b[0;34m)\u001b[0m \u001b[0;34m+\u001b[0m \u001b[0;34m' lbs.'\u001b[0m\u001b[0;34m)\u001b[0m\u001b[0;34m\u001b[0m\u001b[0;34m\u001b[0m\u001b[0m\n\u001b[1;32m     15\u001b[0m \u001b[0;31m# Should be 'Gregory owns a Border Terrier named Hickory'\u001b[0m\u001b[0;34m\u001b[0m\u001b[0;34m\u001b[0m\u001b[0;34m\u001b[0m\u001b[0m\n",
            "\u001b[0;31mAttributeError\u001b[0m: 'NoneType' object has no attribute 'name'"
          ]
        }
      ]
    },
    {
      "cell_type": "markdown",
      "metadata": {
        "id": "Hkgc6XVvFKhb"
      },
      "source": [
        "## Complex Numbers Class\n",
        "Complex numbers, as you have seen, in other mathematics class have a *real* part and an *imaginary* part. The *imaginary* part is multiplied by *i*, the square root of negative one. A complex number can be written **a + bi** where **a** is the real part and **b** is the imaginary part. In the following cell complete the `Complex` class. "
      ]
    },
    {
      "cell_type": "code",
      "metadata": {
        "colab": {
          "base_uri": "https://localhost:8080/",
          "height": 357
        },
        "id": "OMEImNy_f_bX",
        "outputId": "548ca34c-93c5-4f57-bdee-c6f99e085c69"
      },
      "source": [
        "class Complex(object):\n",
        "    \"\"\"A complex number has a real and imaginary part.\"\"\"\n",
        "\n",
        "    # TO DO: Complete the constructor; save each input parameter except\n",
        "    # self as an attribute\n",
        "    def __init__(self, real, imaginary):\n",
        "        pass\n",
        "\n",
        "    # TO DO: Complete the method real to return the real part of\n",
        "    # of the Complex number\n",
        "    def real_part(self):\n",
        "        pass\n",
        "\n",
        "    # TO DO: Complete the method imaginary to return the imaginary part of\n",
        "    # of the Complex number\n",
        "    def imaginary_part(self):\n",
        "        pass\n",
        "\n",
        "    # TO DO: Complete the method add to the calling complex number\n",
        "    # to the argument complex number and RETURN A NEW COMPLEX\n",
        "    # NUMBER THAT IS THEIR SUM.\n",
        "    def add(self, other):\n",
        "        pass\n",
        "\n",
        "    # This method is given to you to turn a Complex object\n",
        "    # into a string. Please do not change this function.\n",
        "    # It permits you to print a Complex number in the format\n",
        "    # a+bi where a is the real part and b is the imaginary part.\n",
        "    def __str__(self):\n",
        "        output = str(self.real) + ' + ' + str(self.imaginary) + 'i'\n",
        "        return output\n",
        "\n",
        "\n",
        "# Feel free to add to this code in order to test your implementation further.\n",
        "x = Complex(3, 4)\n",
        "print('x is ' + str(x)) # Should print 3 + 4i\n",
        "\n",
        "y = Complex(7, 10)\n",
        "print('y is ' + str(y)) # Should print 7 + 10i\n",
        "\n",
        "sum = x.add(y)\n",
        "print('sum is ' + str(sum)) # Should print 10 + 14i"
      ],
      "execution_count": 4,
      "outputs": [
        {
          "output_type": "error",
          "ename": "AttributeError",
          "evalue": "ignored",
          "traceback": [
            "\u001b[0;31m---------------------------------------------------------------------------\u001b[0m",
            "\u001b[0;31mAttributeError\u001b[0m                            Traceback (most recent call last)",
            "\u001b[0;32m<ipython-input-4-583e55e8d864>\u001b[0m in \u001b[0;36m<module>\u001b[0;34m()\u001b[0m\n\u001b[1;32m     34\u001b[0m \u001b[0;31m# Feel free to add to this code in order to test your implementation further.\u001b[0m\u001b[0;34m\u001b[0m\u001b[0;34m\u001b[0m\u001b[0;34m\u001b[0m\u001b[0m\n\u001b[1;32m     35\u001b[0m \u001b[0mx\u001b[0m \u001b[0;34m=\u001b[0m \u001b[0mComplex\u001b[0m\u001b[0;34m(\u001b[0m\u001b[0;36m3\u001b[0m\u001b[0;34m,\u001b[0m \u001b[0;36m4\u001b[0m\u001b[0;34m)\u001b[0m\u001b[0;34m\u001b[0m\u001b[0;34m\u001b[0m\u001b[0m\n\u001b[0;32m---> 36\u001b[0;31m \u001b[0mprint\u001b[0m\u001b[0;34m(\u001b[0m\u001b[0;34m'x is '\u001b[0m \u001b[0;34m+\u001b[0m \u001b[0mstr\u001b[0m\u001b[0;34m(\u001b[0m\u001b[0mx\u001b[0m\u001b[0;34m)\u001b[0m\u001b[0;34m)\u001b[0m \u001b[0;31m# Should print 3 + 4i\u001b[0m\u001b[0;34m\u001b[0m\u001b[0;34m\u001b[0m\u001b[0m\n\u001b[0m\u001b[1;32m     37\u001b[0m \u001b[0;34m\u001b[0m\u001b[0m\n\u001b[1;32m     38\u001b[0m \u001b[0my\u001b[0m \u001b[0;34m=\u001b[0m \u001b[0mComplex\u001b[0m\u001b[0;34m(\u001b[0m\u001b[0;36m7\u001b[0m\u001b[0;34m,\u001b[0m \u001b[0;36m10\u001b[0m\u001b[0;34m)\u001b[0m\u001b[0;34m\u001b[0m\u001b[0;34m\u001b[0m\u001b[0m\n",
            "\u001b[0;32m<ipython-input-4-583e55e8d864>\u001b[0m in \u001b[0;36m__str__\u001b[0;34m(self)\u001b[0m\n\u001b[1;32m     28\u001b[0m     \u001b[0;31m# a+bi where a is the real part and b is the imaginary part.\u001b[0m\u001b[0;34m\u001b[0m\u001b[0;34m\u001b[0m\u001b[0;34m\u001b[0m\u001b[0m\n\u001b[1;32m     29\u001b[0m     \u001b[0;32mdef\u001b[0m \u001b[0m__str__\u001b[0m\u001b[0;34m(\u001b[0m\u001b[0mself\u001b[0m\u001b[0;34m)\u001b[0m\u001b[0;34m:\u001b[0m\u001b[0;34m\u001b[0m\u001b[0;34m\u001b[0m\u001b[0m\n\u001b[0;32m---> 30\u001b[0;31m         \u001b[0moutput\u001b[0m \u001b[0;34m=\u001b[0m \u001b[0mstr\u001b[0m\u001b[0;34m(\u001b[0m\u001b[0mself\u001b[0m\u001b[0;34m.\u001b[0m\u001b[0mreal\u001b[0m\u001b[0;34m)\u001b[0m \u001b[0;34m+\u001b[0m \u001b[0;34m' + '\u001b[0m \u001b[0;34m+\u001b[0m \u001b[0mstr\u001b[0m\u001b[0;34m(\u001b[0m\u001b[0mself\u001b[0m\u001b[0;34m.\u001b[0m\u001b[0mimaginary\u001b[0m\u001b[0;34m)\u001b[0m \u001b[0;34m+\u001b[0m \u001b[0;34m'i'\u001b[0m\u001b[0;34m\u001b[0m\u001b[0;34m\u001b[0m\u001b[0m\n\u001b[0m\u001b[1;32m     31\u001b[0m         \u001b[0;32mreturn\u001b[0m \u001b[0moutput\u001b[0m\u001b[0;34m\u001b[0m\u001b[0;34m\u001b[0m\u001b[0m\n\u001b[1;32m     32\u001b[0m \u001b[0;34m\u001b[0m\u001b[0m\n",
            "\u001b[0;31mAttributeError\u001b[0m: 'Complex' object has no attribute 'real'"
          ]
        }
      ]
    },
    {
      "cell_type": "markdown",
      "metadata": {
        "id": "WG9zMdCjI_fS"
      },
      "source": [
        "### Reflections\n",
        "Add a text cell below to answer the following questions:\n",
        "1. What do you feel more confident about after completing this lab?\n",
        "2. What do you feel you can use more help with after completing this lab?\n",
        "3. Do you have any constructive suggestions on how we can help you or improve this lab?"
      ]
    },
    {
      "cell_type": "markdown",
      "metadata": {
        "id": "0KQcA7o9JK7f"
      },
      "source": [
        "### Save your work to GitHub\n",
        "Please save this notebook to your lab repository.\n"
      ]
    }
  ]
}