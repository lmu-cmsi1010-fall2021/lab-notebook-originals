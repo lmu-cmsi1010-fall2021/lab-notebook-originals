{
  "nbformat": 4,
  "nbformat_minor": 0,
  "metadata": {
    "colab": {
      "name": "More_Play_Hangman_Starter",
      "provenance": [],
      "authorship_tag": "ABX9TyMw9Qfvhme078Yc21UtLHSc",
      "include_colab_link": true
    },
    "kernelspec": {
      "name": "python3",
      "display_name": "Python 3"
    },
    "language_info": {
      "name": "python"
    }
  },
  "cells": [
    {
      "cell_type": "markdown",
      "metadata": {
        "id": "view-in-github",
        "colab_type": "text"
      },
      "source": [
        "<a href=\"https://colab.research.google.com/github/lmu-cmsi1010-fall2021/lab-notebook-originals/blob/main/More_Play_Hangman_Starter.ipynb\" target=\"_parent\"><img src=\"https://colab.research.google.com/assets/colab-badge.svg\" alt=\"Open In Colab\"/></a>"
      ]
    },
    {
      "cell_type": "code",
      "metadata": {
        "id": "THAawWbpUvLB"
      },
      "source": [
        "def play_hangman():\n",
        "\n",
        "    # Actually play the hangman game\n",
        "    # GAME VARIABLES\n",
        "    secret_word = 'claptrap'\n",
        "    letters_guessed = []\n",
        "    mistakes_made = 0\n",
        "\n",
        "    # create an instance of the hangman board\n",
        "    h = HangmanBoard()\n",
        "\n",
        "    ####### YOUR CODE HERE ######\n",
        "\n",
        "    while True:\n",
        "        word = get_guessed(secret_word, letters_guessed)\n",
        "        h.update_guess(word)\n",
        "        h.update_letters_guessed(' '.join(letters_guessed))\n",
        "\n",
        "        # guess a letter\n",
        "        while True:\n",
        "            letter = h.get_guess_entry().lower()\n",
        "            # check if valid letter\n",
        "\n",
        "            if len(letter) == 1:\n",
        "                letter = letter.lower()\n",
        "                if 'a' <= letter <= 'z':\n",
        "                    if letter in letters_guessed:\n",
        "                        h.update_output_text('Letter has already been guessed!')\n",
        "                    else:\n",
        "                        break\n",
        "                else:\n",
        "                    h.update_output_text('Invalid letter!')\n",
        "            else:\n",
        "                h.update_output_text('Invalid guess! Please guess one letter.')\n",
        "\n",
        "        letters_guessed.append(letter)\n",
        "\n",
        "        if letter in secret_word:\n",
        "            if word_guessed(secret_word, letters_guessed):\n",
        "              h.update_guess(secret_word)\n",
        "              h.update_output_text('YOU GUESSED THE WORD! CONGRATULATIONS!')\n",
        "              break # game over\n",
        "            h.update_output_text('Yay! Letter found.')\n",
        "        else:\n",
        "            mistakes_made += 1\n",
        "            h.invalid_guess(mistakes_made)\n",
        "            if mistakes_made == MAX_GUESSES:\n",
        "               h.update_output_text('NO GUESSES LEFT!')\n",
        "               break # game over\n",
        "            h.update_output_text('Sorry. Please try again.')\n",
        "        h.clear_entry()"
      ],
      "execution_count": null,
      "outputs": []
    }
  ]
}