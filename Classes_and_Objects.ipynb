{
  "nbformat": 4,
  "nbformat_minor": 0,
  "metadata": {
    "kernelspec": {
      "display_name": "Python 3",
      "language": "python",
      "name": "python3"
    },
    "language_info": {
      "codemirror_mode": {
        "name": "ipython",
        "version": 3
      },
      "file_extension": ".py",
      "mimetype": "text/x-python",
      "name": "python",
      "nbconvert_exporter": "python",
      "pygments_lexer": "ipython3",
      "version": "3.7.3"
    },
    "colab": {
      "name": "14 Classes and Objects.ipynb",
      "provenance": [],
      "include_colab_link": true
    }
  },
  "cells": [
    {
      "cell_type": "markdown",
      "metadata": {
        "id": "view-in-github",
        "colab_type": "text"
      },
      "source": [
        "<a href=\"https://colab.research.google.com/github/lmu-cmsi1010-fall2021/lab-notebook-originals/blob/main/Classes_and_Objects.ipynb\" target=\"_parent\"><img src=\"https://colab.research.google.com/assets/colab-badge.svg\" alt=\"Open In Colab\"/></a>"
      ]
    },
    {
      "cell_type": "markdown",
      "metadata": {
        "id": "aJ_OzF72fU3f"
      },
      "source": [
        "## Classes and objects\n",
        "\n",
        "For more details on this topic, make sure to read [Think Python](https://greenteapress.com/thinkpython2/thinkpython2.pdf) chapter 15! (the examples in this notebook are taken from there)\n",
        "\n",
        "We start by creating a class with no further details…"
      ]
    },
    {
      "cell_type": "code",
      "metadata": {
        "id": "h4gYU8yCfU3i"
      },
      "source": [
        "class Point:\n",
        "    \"\"\"Represents a point in 2-D space.\"\"\""
      ],
      "execution_count": null,
      "outputs": []
    },
    {
      "cell_type": "code",
      "metadata": {
        "id": "tzLiX_oqfU3k"
      },
      "source": [
        "Point"
      ],
      "execution_count": null,
      "outputs": []
    },
    {
      "cell_type": "markdown",
      "metadata": {
        "id": "0Z-5uNFxfU3k"
      },
      "source": [
        "Creating a new object is called **instantiation**, and the *object* is an *instance* of the *class*. Compare how we can create a new string with `str()` and how we create a new Point with `Point()`.\n",
        "\n",
        "> Strings are special so they can also be created with the *literal* expression `''`—our custom classes don’t have that privilege so we always create them via their class names."
      ]
    },
    {
      "cell_type": "code",
      "metadata": {
        "colab": {
          "base_uri": "https://localhost:8080/",
          "height": 34
        },
        "id": "HpzgtJ8tfU3k",
        "outputId": "b2ad5653-436c-472e-d06e-e10f6dad2c0a"
      },
      "source": [
        "s = str()\n",
        "s"
      ],
      "execution_count": null,
      "outputs": [
        {
          "output_type": "execute_result",
          "data": {
            "application/vnd.google.colaboratory.intrinsic+json": {
              "type": "string"
            },
            "text/plain": [
              "''"
            ]
          },
          "metadata": {},
          "execution_count": 1
        }
      ]
    },
    {
      "cell_type": "code",
      "metadata": {
        "id": "GKtGXWNEfU3k"
      },
      "source": [
        "pt = Point()\n",
        "pt # value is a reference to a Point object"
      ],
      "execution_count": null,
      "outputs": []
    },
    {
      "cell_type": "code",
      "metadata": {
        "id": "5eVhK956fU3l"
      },
      "source": [
        "type(pt)"
      ],
      "execution_count": null,
      "outputs": []
    },
    {
      "cell_type": "markdown",
      "metadata": {
        "id": "WWGD8bl7fU3l"
      },
      "source": [
        "### Attributes\n",
        "\n",
        "Once created, objects can have *attributes* assigned to them."
      ]
    },
    {
      "cell_type": "code",
      "metadata": {
        "id": "rRg4WNvKfU3l"
      },
      "source": [
        "pt.x = 3.0\n",
        "pt.y = 4.0"
      ],
      "execution_count": null,
      "outputs": []
    },
    {
      "cell_type": "code",
      "metadata": {
        "id": "Ag_D5XoqfU3m"
      },
      "source": [
        "pt.y"
      ],
      "execution_count": null,
      "outputs": []
    },
    {
      "cell_type": "code",
      "metadata": {
        "id": "xLwQbirefU3m"
      },
      "source": [
        "x = pt.x\n",
        "x"
      ],
      "execution_count": null,
      "outputs": []
    },
    {
      "cell_type": "markdown",
      "metadata": {
        "id": "n_OCc8L8fU3m"
      },
      "source": [
        "As always, we can use [PythonTutor](http://pythontutor.com/visualize.html#code=class%20Point%3A%0A%20%20%20%20%22%22%22Represents%20a%20point%20in%202-D%20space.%22%22%22%0A%0A%0Apt%20%3D%20Point%28%29%0A%0Apt.x%20%3D%203.0%0Apt.y%20%3D%204.0&cumulative=false&curInstr=0&heapPrimitives=nevernest&mode=display&origin=opt-frontend.js&py=3&rawInputLstJSON=%5B%5D&textReferences=false) to visualize what’s happening."
      ]
    },
    {
      "cell_type": "markdown",
      "metadata": {
        "id": "5cr-IIIOfU3m"
      },
      "source": [
        "### The `__init__` method\n",
        "\n",
        "For most classes, we know what attributes they will have in advance. We express those through the `__init__` method (known more generically as a *constructor*)."
      ]
    },
    {
      "cell_type": "code",
      "metadata": {
        "id": "Cn9ji3e0fU3m"
      },
      "source": [
        "class Point:\n",
        "    \"\"\"Represents a point in 2-D space.\"\"\"\n",
        "    \n",
        "    def __init__(self, x=0, y=0):\n",
        "        self.x = x\n",
        "        self.y = y"
      ],
      "execution_count": null,
      "outputs": []
    },
    {
      "cell_type": "code",
      "metadata": {
        "id": "O6Tsv_SDfU3n"
      },
      "source": [
        "p = Point()\n",
        "p"
      ],
      "execution_count": null,
      "outputs": []
    },
    {
      "cell_type": "code",
      "metadata": {
        "id": "6T-9gcrufU3n"
      },
      "source": [
        "p.x"
      ],
      "execution_count": null,
      "outputs": []
    },
    {
      "cell_type": "code",
      "metadata": {
        "id": "R9Q2BykgfU3n"
      },
      "source": [
        "p.y"
      ],
      "execution_count": null,
      "outputs": []
    },
    {
      "cell_type": "code",
      "metadata": {
        "id": "qgs9Qwn2fU3o"
      },
      "source": [
        "q = Point(4, 9)"
      ],
      "execution_count": null,
      "outputs": []
    },
    {
      "cell_type": "code",
      "metadata": {
        "id": "Z6HDIK68fU3o"
      },
      "source": [
        "q.x"
      ],
      "execution_count": null,
      "outputs": []
    },
    {
      "cell_type": "code",
      "metadata": {
        "id": "VzziGxMUfU3o"
      },
      "source": [
        "q.y"
      ],
      "execution_count": null,
      "outputs": []
    },
    {
      "cell_type": "markdown",
      "metadata": {
        "id": "jqA_HnRlfU3o"
      },
      "source": [
        "### The `__str__` method\n",
        "\n",
        "We can print any built-in data type in Python, and so it would be nice to also print our custom objects. The `__str__` method lets us do that."
      ]
    },
    {
      "cell_type": "code",
      "metadata": {
        "id": "QLj94Ow8fU3o"
      },
      "source": [
        "class Point:\n",
        "    \"\"\"Represents a point in 2-D space.\"\"\"\n",
        "    \n",
        "    def __init__(self, x=0, y=0):\n",
        "        self.x = x\n",
        "        self.y = y\n",
        "        \n",
        "    def __str__(self):\n",
        "        # Introducing...the formatted string!\n",
        "        return f'({self.x}, {self.y})'"
      ],
      "execution_count": null,
      "outputs": []
    },
    {
      "cell_type": "markdown",
      "metadata": {
        "id": "ztAcNykuhn_v"
      },
      "source": [
        "Note the difference between just displaying an object vs. printing it."
      ]
    },
    {
      "cell_type": "code",
      "metadata": {
        "colab": {
          "base_uri": "https://localhost:8080/"
        },
        "id": "4DyK984yfU3p",
        "outputId": "9c111d03-9c76-41ec-be96-9ccf524e488f"
      },
      "source": [
        "p = Point()\n",
        "p"
      ],
      "execution_count": null,
      "outputs": [
        {
          "output_type": "execute_result",
          "data": {
            "text/plain": [
              "<__main__.Point at 0x7fce9afccc10>"
            ]
          },
          "metadata": {},
          "execution_count": 5
        }
      ]
    },
    {
      "cell_type": "code",
      "metadata": {
        "colab": {
          "base_uri": "https://localhost:8080/"
        },
        "id": "s1QwED8gfU3p",
        "outputId": "b0e34c36-6f1d-4198-f0c1-e24897a88e1c"
      },
      "source": [
        "print(p)"
      ],
      "execution_count": null,
      "outputs": [
        {
          "output_type": "stream",
          "name": "stdout",
          "text": [
            "(0, 0)\n"
          ]
        }
      ]
    },
    {
      "cell_type": "markdown",
      "metadata": {
        "id": "79_rg2OVfU3p"
      },
      "source": [
        "### Our own methods\n",
        "\n",
        "`__init__` and `__str__` are so named to indicate that they have specific meanings in Python. All other methods can be named like any other function."
      ]
    },
    {
      "cell_type": "code",
      "metadata": {
        "id": "G2XHhUiFfU3p"
      },
      "source": [
        "import math\n",
        "\n",
        "class Point:\n",
        "    \"\"\"Represents a point in 2-D space.\"\"\"\n",
        "    \n",
        "    def __init__(self, x=0, y=0):\n",
        "        self.x = x\n",
        "        self.y = y\n",
        "        \n",
        "    def __str__(self):\n",
        "        return f'({self.x}, {self.y})'\n",
        "    \n",
        "    def distance(self):\n",
        "        return math.sqrt(self.x**2 + self.y**2)"
      ],
      "execution_count": null,
      "outputs": []
    },
    {
      "cell_type": "code",
      "metadata": {
        "id": "xCmzkneofU3p"
      },
      "source": [
        "p = Point(3, 4)"
      ],
      "execution_count": null,
      "outputs": []
    },
    {
      "cell_type": "code",
      "metadata": {
        "colab": {
          "base_uri": "https://localhost:8080/"
        },
        "id": "Tyk0x6dYfU3q",
        "outputId": "2d5bf1d9-f890-45fa-f664-47704bc0d28a"
      },
      "source": [
        "p.distance()"
      ],
      "execution_count": null,
      "outputs": [
        {
          "output_type": "execute_result",
          "data": {
            "text/plain": [
              "5.0"
            ]
          },
          "metadata": {},
          "execution_count": 8
        }
      ]
    },
    {
      "cell_type": "markdown",
      "metadata": {
        "id": "T04IDsEWfU3q"
      },
      "source": [
        "### Class Practice\n",
        "\n",
        "Write a class that represents a bank account. First decide what the attributes of a bank account would be, and what functionality an account has, and what effect that functionality has on the attributes of that account.\n",
        "\n",
        "Create instances of accounts and see if your account attributes and methods represent the functionality of accounts."
      ]
    },
    {
      "cell_type": "code",
      "metadata": {
        "id": "dTfeoQZCfU3q"
      },
      "source": [
        "..."
      ],
      "execution_count": null,
      "outputs": []
    }
  ]
}