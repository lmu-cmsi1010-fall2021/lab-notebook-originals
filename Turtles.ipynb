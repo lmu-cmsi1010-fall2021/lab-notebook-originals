{
  "nbformat": 4,
  "nbformat_minor": 0,
  "metadata": {
    "colab": {
      "name": "13 Turtles.ipynb",
      "provenance": [],
      "authorship_tag": "ABX9TyMBjDPMJrPxYvreqC7zd5hd",
      "include_colab_link": true
    },
    "kernelspec": {
      "name": "python3",
      "display_name": "Python 3"
    },
    "language_info": {
      "name": "python"
    }
  },
  "cells": [
    {
      "cell_type": "markdown",
      "metadata": {
        "id": "view-in-github",
        "colab_type": "text"
      },
      "source": [
        "<a href=\"https://colab.research.google.com/github/lmu-cmsi1010-fall2021/lab-notebook-originals/blob/main/Turtles.ipynb\" target=\"_parent\"><img src=\"https://colab.research.google.com/assets/colab-badge.svg\" alt=\"Open In Colab\"/></a>"
      ]
    },
    {
      "cell_type": "markdown",
      "metadata": {
        "id": "buuJhZMMNQoW"
      },
      "source": [
        "# Turtle Power!\n",
        "Turtle graphics is yet another way to do graphics in Python, and is a particularly good way to explore *recursion* in graphics! Turtle graphics can also be done inside a Colaboratory Jupyter notebook, which makes it even better for exploration."
      ]
    },
    {
      "cell_type": "markdown",
      "metadata": {
        "id": "cFmY8Nj8OVf4"
      },
      "source": [
        "## Setup\n",
        "To use turtle graphics in a notebook, first run the following code block:"
      ]
    },
    {
      "cell_type": "code",
      "metadata": {
        "id": "2H9KiTyoNPR3"
      },
      "source": [
        "!pip3 install ColabTurtle"
      ],
      "execution_count": null,
      "outputs": []
    },
    {
      "cell_type": "markdown",
      "metadata": {
        "id": "5FlXUAuzUoAp"
      },
      "source": [
        "Once that succeeds, run this one next:"
      ]
    },
    {
      "cell_type": "code",
      "metadata": {
        "id": "0TWU2wyZNnIK"
      },
      "source": [
        "from ColabTurtle.Turtle import *"
      ],
      "execution_count": null,
      "outputs": []
    },
    {
      "cell_type": "markdown",
      "metadata": {
        "id": "ozCb08bdUttR"
      },
      "source": [
        "Once both of these have executed successfully, you can have a turtle in a Colab Jupyter notebook! Additional documentation can be found here: https://github.com/tolgaatam/ColabTurtle"
      ]
    },
    {
      "cell_type": "markdown",
      "metadata": {
        "id": "vrccqrkTOYZ3"
      },
      "source": [
        "## Hello Turtle\n",
        "All turtle-in-notebook programs must start with `initializeTurtle()` to set things up.\n",
        "\n",
        "Here is a simple program that makes it take 100 steps forward then turns it 90 degrees counterclockwise:"
      ]
    },
    {
      "cell_type": "code",
      "metadata": {
        "id": "E3sTGBcCNtU7"
      },
      "source": [
        "initializeTurtle()\n",
        "\n",
        "forward(100) # move 100 steps\n",
        "left(90) # turn 90 degrees"
      ],
      "execution_count": null,
      "outputs": []
    },
    {
      "cell_type": "markdown",
      "metadata": {
        "id": "hTC8Hx3aVlNu"
      },
      "source": [
        "## Turtle Practice\n",
        "Let’s build on the code above to do the following:\n",
        "* Draw a square in four independent steps\n",
        "* Draw a square using a loop"
      ]
    },
    {
      "cell_type": "code",
      "metadata": {
        "id": "_uXjdIIuWXhk"
      },
      "source": [
        "# Draw a square in four independent steps.\n",
        "initializeTurtle()"
      ],
      "execution_count": null,
      "outputs": []
    },
    {
      "cell_type": "code",
      "metadata": {
        "id": "Kn9002JKWq8S"
      },
      "source": [
        "# Draw a square using a loop.\n",
        "initializeTurtle()"
      ],
      "execution_count": null,
      "outputs": []
    },
    {
      "cell_type": "markdown",
      "metadata": {
        "id": "9rHTdcgiWbgu"
      },
      "source": [
        "### More Turtle Ideas\n",
        "Get the hang of the turtle by trying any or all of these:\n",
        "* Draw an equilateral triangle in three independent steps\n",
        "* Draw an equilateral triangle using a loop\n",
        "* Write a function that draws a square of any size\n",
        "* Write a function that draws an equilateral triangle of any size\n",
        "* Write a function that draws a regular polygon with any number of sides\n",
        "* Write a function that draws a regular polygon of any size with any number of sides\n",
        "* Write a function that draws a circle\n",
        "* Write a function that draws a circle of any radius"
      ]
    },
    {
      "cell_type": "code",
      "metadata": {
        "id": "i69dMGCTWesy"
      },
      "source": [
        "# Free-form turtle fun!\n",
        "initializeTurtle()"
      ],
      "execution_count": null,
      "outputs": []
    },
    {
      "cell_type": "markdown",
      "metadata": {
        "id": "Hkgc6XVvFKhb"
      },
      "source": [
        "## Recursion with Turtle (Returtlin'?)\n",
        "Shapes that are made of smaller versions of themselves are called *fractals*. They are mathematically interesting, and mother nature agrees! Fractals can be found in many natural objects such as snowflakes, pineapples, and Romanesco broccoli."
      ]
    },
    {
      "cell_type": "code",
      "metadata": {
        "id": "7qRE5QMvFbct"
      },
      "source": [
        "def draw_branch(n, branch_length=32):\n",
        "    if n == 0:\n",
        "        return\n",
        "\n",
        "    forward(branch_length * n)\n",
        "    left(50)\n",
        "    draw_branch(n - 1, branch_length)\n",
        "    right(100)\n",
        "    draw_branch(n - 1, branch_length)\n",
        "    left(50)\n",
        "    back(branch_length * n)\n",
        "\n",
        "initializeTurtle()\n",
        "draw_branch(3)\n"
      ],
      "execution_count": null,
      "outputs": []
    }
  ]
}