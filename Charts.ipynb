{
  "nbformat": 4,
  "nbformat_minor": 0,
  "metadata": {
    "colab": {
      "name": "18 Charts.ipynb",
      "provenance": [],
      "collapsed_sections": [],
      "include_colab_link": true
    },
    "kernelspec": {
      "name": "python3",
      "display_name": "Python 3"
    }
  },
  "cells": [
    {
      "cell_type": "markdown",
      "metadata": {
        "id": "view-in-github",
        "colab_type": "text"
      },
      "source": [
        "<a href=\"https://colab.research.google.com/github/lmu-cmsi1010-fall2021/lab-notebook-originals/blob/main/Charts.ipynb\" target=\"_parent\"><img src=\"https://colab.research.google.com/assets/colab-badge.svg\" alt=\"Open In Colab\"/></a>"
      ]
    },
    {
      "cell_type": "markdown",
      "metadata": {
        "id": "5q7BXLzN2l72"
      },
      "source": [
        "Reference: This notebook was borrowed from Berkeley's Data 8 course: https://www.youtube.com/watch?v=UlrQHFt2mDQ&feature=youtu.be&t=323"
      ]
    },
    {
      "cell_type": "code",
      "metadata": {
        "id": "nXF0DD5XLSTv"
      },
      "source": [
        "from datascience import *\n",
        "import numpy as np\n",
        "\n",
        "%matplotlib inline\n",
        "import matplotlib.pyplot as plt\n",
        "plt.style.use('seaborn-whitegrid')"
      ],
      "execution_count": null,
      "outputs": []
    },
    {
      "cell_type": "markdown",
      "metadata": {
        "id": "HxbEmEkcLZ7Z"
      },
      "source": [
        "## Actor data ##"
      ]
    },
    {
      "cell_type": "code",
      "metadata": {
        "id": "BHrm98QPLchi"
      },
      "source": [
        "actors = Table.read_table('https://raw.githubusercontent.com/data-8/textbook/gh-pages/data/actors.csv')\n",
        "actors.show()"
      ],
      "execution_count": null,
      "outputs": []
    },
    {
      "cell_type": "markdown",
      "metadata": {
        "id": "DD0o0nkbMn7I"
      },
      "source": [
        "## Scatter Plots ##"
      ]
    },
    {
      "cell_type": "code",
      "metadata": {
        "id": "MtU9gKbisLuD"
      },
      "source": [
        "actors.scatter('Number of Movies', 'Total Gross')"
      ],
      "execution_count": null,
      "outputs": []
    },
    {
      "cell_type": "code",
      "metadata": {
        "id": "M0Z6-iwtsWZd"
      },
      "source": [
        "actors.scatter('Number of Movies', 'Average per Movie')\n",
        "# TODO: Now what trend do we see?"
      ],
      "execution_count": null,
      "outputs": []
    },
    {
      "cell_type": "code",
      "metadata": {
        "id": "I5npbBXxsurv"
      },
      "source": [
        "# TODO: How do we find the actor on the far right? (Make a guess!)\n",
        "actors.where('Number of Movies', are.above(75))"
      ],
      "execution_count": null,
      "outputs": []
    },
    {
      "cell_type": "code",
      "metadata": {
        "id": "cxs9aDdrs-Pd"
      },
      "source": [
        "# TODO: How do we find the actor on the far left?\n",
        "actors.where('Number of Movies', are.below(10))"
      ],
      "execution_count": null,
      "outputs": []
    },
    {
      "cell_type": "markdown",
      "metadata": {
        "id": "le4lmWpqyNCo"
      },
      "source": [
        "![](https://d13ezvd6yrslxm.cloudfront.net/wp/wp-content/images/C-3PO-See-Threepio_68fe125c-700x350.jpeg)"
      ]
    },
    {
      "cell_type": "code",
      "metadata": {
        "id": "Y32h9QzhyTuK"
      },
      "source": [
        "![](https://d13ezvd6yrslxm.cloudfront.net/wp/wp-content/images/C-3PO-See-Threepio_68fe125c-700x350.jpeg)"
      ],
      "execution_count": null,
      "outputs": []
    },
    {
      "cell_type": "markdown",
      "metadata": {
        "id": "quzT1xvKyiZh"
      },
      "source": [
        "## Movie data ##"
      ]
    },
    {
      "cell_type": "code",
      "metadata": {
        "id": "rh-M8t1yyjh_"
      },
      "source": [
        "movies = Table.read_table('https://raw.githubusercontent.com/data-8/textbook/gh-pages/data/movies_by_year.csv')\n",
        "movies.show()"
      ],
      "execution_count": null,
      "outputs": []
    },
    {
      "cell_type": "markdown",
      "metadata": {
        "id": "0wrNHqyWzFJr"
      },
      "source": [
        "## Line Plots ##"
      ]
    },
    {
      "cell_type": "code",
      "metadata": {
        "id": "HP7acOQnzG0c"
      },
      "source": [
        "century_21 = movies.where('Year', are.above(1999))\n",
        "century_21.plot('Year', 'Number of Movies')\n",
        "# TODO: Do you see a dip? Why?"
      ],
      "execution_count": null,
      "outputs": []
    },
    {
      "cell_type": "code",
      "metadata": {
        "id": "-ZgyYLrczq5_"
      },
      "source": [
        "century_21.plot('Year', 'Total Gross')\n",
        "# TODO: Look at 2009 again--did the studios suffer?"
      ],
      "execution_count": null,
      "outputs": []
    },
    {
      "cell_type": "markdown",
      "metadata": {
        "id": "QaABoMRZ0MCC"
      },
      "source": [
        "## Bar Charts ##"
      ]
    },
    {
      "cell_type": "code",
      "metadata": {
        "id": "2VPfigER0NnA"
      },
      "source": [
        "# Let's practice using categorical variables! Q: Which pets do we want?\n",
        "pets = Table().with_columns('Pet', make_array('Tiger', 'Cow', 'Turtle'),\n",
        "                            'Number', make_array(5, 10, 25))\n",
        "pets"
      ],
      "execution_count": null,
      "outputs": []
    },
    {
      "cell_type": "code",
      "metadata": {
        "id": "9itGewyw0hbQ"
      },
      "source": [
        "pets.barh('Pet')"
      ],
      "execution_count": null,
      "outputs": []
    },
    {
      "cell_type": "markdown",
      "metadata": {
        "id": "eoQGMDHY1L1I"
      },
      "source": [
        "## Categorical Variables ##\n",
        "\n",
        "If we want to know which studios produced the 200 top-grossing movies of all time, we need to *count* the top movies produced by each studio.\n",
        "\n",
        "The studio is a categorical variable. We can use the `.group()` method to create a brand new table with top-movie counts for each studio!"
      ]
    },
    {
      "cell_type": "code",
      "metadata": {
        "id": "fkYj4zEp08I1"
      },
      "source": [
        "top_movies = Table.read_table('https://raw.githubusercontent.com/data-8/textbook/gh-pages/data/top_movies.csv')\n",
        "top_movies.set_format([2, 3], NumberFormatter)\n",
        "top_movies"
      ],
      "execution_count": null,
      "outputs": []
    },
    {
      "cell_type": "code",
      "metadata": {
        "id": "dZpQBB1_1qfJ"
      },
      "source": [
        "# TODO: Let's find out how many top movies were produced by each studio!\n",
        "count = top_movies.group('Studio')\n",
        "count\n",
        "count.barh('Studio')"
      ],
      "execution_count": null,
      "outputs": []
    },
    {
      "cell_type": "code",
      "metadata": {
        "id": "eURVa_-618sE"
      },
      "source": [
        "# TODO: Now let's make a bar chart in descending sorted order.\n",
        "count.sort('count', descending=True).barh('Studio')"
      ],
      "execution_count": null,
      "outputs": []
    },
    {
      "cell_type": "markdown",
      "metadata": {
        "id": "clEDhOcV3NaW"
      },
      "source": [
        "## In-class Activity##\n",
        "Now it's your turn! Use the following Table of data on the majors enrolled in this course to plot a bar chart in descending order of majors."
      ]
    },
    {
      "cell_type": "code",
      "metadata": {
        "id": "Oikwsi873aPI"
      },
      "source": [
        "students = Table().with_columns(\n",
        "    'Year', make_array(1, 2, 4, 1, 1, 3, 2, 3, 3, 2, 2, 3, 4, 1, 1, 2, 4, 3, 2, \n",
        "                       1, 3, 1, 2, 3, 2, 2, 1, 4),\n",
        "    'Major', make_array('Psychology', 'Engineering undeclared', 'Studio Arts', \n",
        "                        'Mathematics', 'Management and Leadership', \n",
        "                        'Studio Arts', 'Animation', 'Political Science', \n",
        "                        'Economics', 'Management', 'Mathematics', \n",
        "                        'Political Science', 'Recording Arts', 'Mathematics', \n",
        "                        'Mathematics', 'Political Science', 'Psychology', \n",
        "                        'Info Systems & Bus Analytics', \n",
        "                        'Applied Information Mgmt Sys', 'Entrepreneurship', \n",
        "                        'Philosophy', 'Electrical Engineering', 'Humanities', \n",
        "                        'Applied Information Mgmt Sys', 'Civil Engineering', \n",
        "                        'Finance', 'Mathematics', 'Mechanical Engineering')\n",
        ")\n",
        "students.show(5)"
      ],
      "execution_count": null,
      "outputs": []
    },
    {
      "cell_type": "code",
      "metadata": {
        "id": "Mh5JSLZ93q00"
      },
      "source": [
        "# TODO: Plot a bar chart of majors in this 185 class by descending count.\n",
        "# Hint: You will need to call 3 methods on the students Table--\n",
        "# one to get the counts by major, one to sort, and one to plot.\n",
        "students.group('Major').sort('count', descending=True).barh('Major')"
      ],
      "execution_count": null,
      "outputs": []
    }
  ]
}